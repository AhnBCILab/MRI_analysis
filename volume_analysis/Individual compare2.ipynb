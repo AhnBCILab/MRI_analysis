{
 "cells": [
  {
   "cell_type": "code",
   "execution_count": 8,
   "metadata": {},
   "outputs": [],
   "source": [
    "%matplotlib inline\n",
    "import numpy as np\n",
    "import matplotlib.pyplot as plt\n",
    "import pandas as pd"
   ]
  },
  {
   "cell_type": "code",
   "execution_count": 9,
   "metadata": {},
   "outputs": [],
   "source": [
    "raw_data = pd.read_csv(\"ADNI_dataset.csv\")\n",
    "raw_data = raw_data[raw_data[\"CDR\"] != \"None\"]\n",
    "raw_data = raw_data[raw_data[\"MMSE\"] != \"None\"]\n",
    "roi_data = pd.concat([raw_data[\"CDR\"], raw_data[\"MMSE\"], raw_data.loc[:, 'BrainSeg':]], axis=1).astype(float)\n",
    "roi_data = pd.concat([raw_data[\"Group\"],  roi_data], axis=1)\n",
    "roi_data = roi_data[roi_data[\"CDR\"] >= 0]"
   ]
  },
  {
   "cell_type": "code",
   "execution_count": 10,
   "metadata": {
    "scrolled": false
   },
   "outputs": [],
   "source": [
    "clinical_data = roi_data.loc[:, :\"MMSE\"]\n",
    "volume_data = roi_data.loc[:, \"BrainSeg\":]\n",
    "# rates = {}\n",
    "# for column in volume_data.columns:\n",
    "#     rates[column] = int(('%e' % float(volume_data[column].mean())).split('e')[1])\n",
    "#     volume_data[column] = volume_data[column] * (10 ** -rates[column])\n",
    "data = pd.concat([clinical_data, volume_data], axis=1)"
   ]
  },
  {
   "cell_type": "code",
   "execution_count": 11,
   "metadata": {},
   "outputs": [],
   "source": [
    "NC = data[data[\"Group\"] == \"CN\"]\n",
    "MCI = data[data[\"Group\"] == \"MCI\"]\n",
    "AD = data[data[\"Group\"] == \"AD\"]"
   ]
  },
  {
   "cell_type": "code",
   "execution_count": null,
   "metadata": {},
   "outputs": [],
   "source": [
    "from scipy.stats import f_oneway\n",
    "from scipy.stats import ttest_ind\n",
    "\n",
    "fig = plt.figure(figsize=(30, 200))\n",
    "ax = {}\n",
    "\n",
    "for index, column in enumerate(volume_data.columns):\n",
    "    ax[index] = fig.add_subplot(23, 3, index + 1)\n",
    "    ax[index].boxplot([NC[column], MCI[column], AD[column]])\n",
    "    ax[index].set_xticklabels([\"NC\", \"MCI\", \"AD\"])\n",
    "    y_min, y_max = ax[index].get_ylim()\n",
    "    \n",
    "    _, p = f_oneway(NC[column], MCI[column], AD[column])\n",
    "    p_NM = ttest_ind(NC[column], MCI[column]).pvalue\n",
    "    p_MA = ttest_ind(MCI[column], AD[column]).pvalue\n",
    "    p_NA = ttest_ind(NC[column], AD[column]).pvalue\n",
    "    \n",
    "    if (p < 0.05): column += '*'\n",
    "    if (p < 0.005): column += '*'\n",
    "    if (p < 0.001): column += '*'\n",
    "    ax[index].set_title(column)\n",
    "    \n",
    "    if (p_NM < 0.05): ax[index].plot([1, 2], [y_max, y_max])\n",
    "    if (p_MA < 0.05): ax[index].plot([2, 3], [y_max - 0.1, y_max - 0.1])\n",
    "    if (p_NA < 0.05): ax[index].plot([1, 3], [y_max - 0.2, y_max - 0.2])\n",
    "\n",
    "#fig.savefig(\"temp_result.png\")"
   ]
  },
  {
   "cell_type": "code",
   "execution_count": 16,
   "metadata": {},
   "outputs": [],
   "source": [
    "from scipy.stats import f_oneway\n",
    "from scipy.stats import ttest_ind\n",
    "\n",
    "header = [\"Name\", \"NC_mean\", \"NC_std\", \"MCI_mean\", \"MCI_std\", \"AD_mean\", \"AD_std\", \"NM_t\", \"NM_p\", \"MA_t\", \"MA_p\", \"NA_t\", \"NA_p\"]\n",
    "dataset = pd.DataFrame(columns=header)\n",
    "for column in volume_data.columns:\n",
    "    NM_t, NM_p = ttest_ind(NC[column], MCI[column])\n",
    "    MA_t, MA_p = ttest_ind(MCI[column], AD[column])\n",
    "    NA_t, NA_p = ttest_ind(NC[column], AD[column])\n",
    "    dataset.loc[0 if pd.isnull(dataset.index.max()) else dataset.index.max() + 1] = [\n",
    "        column, NC[column].mean(), NC[column].std(), MCI[column].mean(), MCI[column].std(), AD[column].mean(), AD[column].std(),\n",
    "         NM_t, NM_p, MA_t, MA_p, NA_t, NA_p]\n",
    "#dataset.to_csv(\"file2.csv\", mode=\"w\")"
   ]
  },
  {
   "cell_type": "code",
   "execution_count": 22,
   "metadata": {},
   "outputs": [
    {
     "name": "stdout",
     "output_type": "stream",
     "text": [
      "증가: VentricleChoroidVol\n",
      "감소: lhCortex\n",
      "감소: rhCortex\n",
      "감소: Cortex\n",
      "감소: SubCortGray\n",
      "감소: TotalGray\n",
      "감소: BrainSegVol-to-eTIV\n",
      "감소: MaskVol-to-eTIV\n",
      "증가: lhSurfaceHoles\n",
      "증가: SurfaceHoles\n",
      "증가: Left-Lateral-Ventricle\n",
      "증가: Left-Inf-Lat-Vent\n",
      "감소: Left-Thalamus-Proper\n",
      "감소: Left-Putamen\n",
      "증가: 3rd-Ventricle\n",
      "증가: 4th-Ventricle\n",
      "감소: Left-Hippocampus\n",
      "감소: Left-Amygdala\n",
      "증가: CSF\n",
      "감소: Left-Accumbens-area\n",
      "감소: Left-VentralDC\n",
      "증가: Left-choroid-plexus\n",
      "증가: Right-Lateral-Ventricle\n",
      "증가: Right-Inf-Lat-Vent\n",
      "감소: Right-Putamen\n",
      "감소: Right-Hippocampus\n",
      "감소: Right-Amygdala\n",
      "감소: Right-Accumbens-area\n",
      "감소: Right-VentralDC\n",
      "증가: Right-choroid-plexus\n",
      "증가: WM-hypointensities\n",
      "감소: non-WM-hypointensities\n",
      "증가: CC_Mid_Posterior\n",
      "감소: CC_Mid_Anterior\n"
     ]
    }
   ],
   "source": [
    "for index, row in dataset.iterrows():\n",
    "    if row.NC_mean < row.MCI_mean and row.MCI_mean < row.AD_mean:\n",
    "        print(\"증가: \" + row.Name)\n",
    "    elif row.NC_mean > row.MCI_mean and row.MCI_mean > row.AD_mean:\n",
    "        print(\"감소: \" + row.Name)"
   ]
  },
  {
   "cell_type": "code",
   "execution_count": null,
   "metadata": {},
   "outputs": [],
   "source": []
  }
 ],
 "metadata": {
  "kernelspec": {
   "display_name": "Python 3",
   "language": "python",
   "name": "python3"
  },
  "language_info": {
   "codemirror_mode": {
    "name": "ipython",
    "version": 3
   },
   "file_extension": ".py",
   "mimetype": "text/x-python",
   "name": "python",
   "nbconvert_exporter": "python",
   "pygments_lexer": "ipython3",
   "version": "3.6.8"
  }
 },
 "nbformat": 4,
 "nbformat_minor": 2
}
