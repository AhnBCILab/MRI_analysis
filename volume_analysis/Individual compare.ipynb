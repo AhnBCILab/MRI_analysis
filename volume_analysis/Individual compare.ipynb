{
 "cells": [
  {
   "cell_type": "code",
   "execution_count": 1,
   "metadata": {},
   "outputs": [],
   "source": [
    "%matplotlib inline\n",
    "import numpy as np\n",
    "import matplotlib.pyplot as plt\n",
    "import pandas as pd"
   ]
  },
  {
   "cell_type": "code",
   "execution_count": 2,
   "metadata": {},
   "outputs": [],
   "source": [
    "raw_data = pd.read_csv(\"ADNI_dataset.csv\")\n",
    "raw_data = raw_data[raw_data[\"CDR\"] != \"None\"]\n",
    "roi_data = pd.concat([raw_data[\"CDR\"], raw_data.loc[:, 'BrainSeg':]], axis=1).astype(float)\n",
    "roi_data = roi_data[roi_data[\"CDR\"] >= 0]"
   ]
  },
  {
   "cell_type": "code",
   "execution_count": 15,
   "metadata": {
    "scrolled": false
   },
   "outputs": [
    {
     "data": {
      "text/html": [
       "<div>\n",
       "<style scoped>\n",
       "    .dataframe tbody tr th:only-of-type {\n",
       "        vertical-align: middle;\n",
       "    }\n",
       "\n",
       "    .dataframe tbody tr th {\n",
       "        vertical-align: top;\n",
       "    }\n",
       "\n",
       "    .dataframe thead th {\n",
       "        text-align: right;\n",
       "    }\n",
       "</style>\n",
       "<table border=\"1\" class=\"dataframe\">\n",
       "  <thead>\n",
       "    <tr style=\"text-align: right;\">\n",
       "      <th></th>\n",
       "      <th>CDR</th>\n",
       "      <th>Rate_left</th>\n",
       "      <th>Rate_right</th>\n",
       "      <th>Rate_whole</th>\n",
       "    </tr>\n",
       "  </thead>\n",
       "  <tbody>\n",
       "    <tr>\n",
       "      <th>count</th>\n",
       "      <td>1527.000000</td>\n",
       "      <td>1527.000000</td>\n",
       "      <td>1527.000000</td>\n",
       "      <td>1527.000000</td>\n",
       "    </tr>\n",
       "    <tr>\n",
       "      <th>mean</th>\n",
       "      <td>0.442043</td>\n",
       "      <td>2.941193</td>\n",
       "      <td>3.021285</td>\n",
       "      <td>5.962478</td>\n",
       "    </tr>\n",
       "    <tr>\n",
       "      <th>std</th>\n",
       "      <td>0.369744</td>\n",
       "      <td>0.468731</td>\n",
       "      <td>0.502031</td>\n",
       "      <td>0.936276</td>\n",
       "    </tr>\n",
       "    <tr>\n",
       "      <th>min</th>\n",
       "      <td>0.000000</td>\n",
       "      <td>1.797604</td>\n",
       "      <td>1.620051</td>\n",
       "      <td>3.719292</td>\n",
       "    </tr>\n",
       "    <tr>\n",
       "      <th>25%</th>\n",
       "      <td>0.000000</td>\n",
       "      <td>2.601493</td>\n",
       "      <td>2.668861</td>\n",
       "      <td>5.263896</td>\n",
       "    </tr>\n",
       "    <tr>\n",
       "      <th>50%</th>\n",
       "      <td>0.500000</td>\n",
       "      <td>2.913938</td>\n",
       "      <td>3.013519</td>\n",
       "      <td>5.903912</td>\n",
       "    </tr>\n",
       "    <tr>\n",
       "      <th>75%</th>\n",
       "      <td>0.500000</td>\n",
       "      <td>3.238053</td>\n",
       "      <td>3.363721</td>\n",
       "      <td>6.604420</td>\n",
       "    </tr>\n",
       "    <tr>\n",
       "      <th>max</th>\n",
       "      <td>3.000000</td>\n",
       "      <td>4.685100</td>\n",
       "      <td>4.755916</td>\n",
       "      <td>9.390933</td>\n",
       "    </tr>\n",
       "  </tbody>\n",
       "</table>\n",
       "</div>"
      ],
      "text/plain": [
       "               CDR    Rate_left   Rate_right   Rate_whole\n",
       "count  1527.000000  1527.000000  1527.000000  1527.000000\n",
       "mean      0.442043     2.941193     3.021285     5.962478\n",
       "std       0.369744     0.468731     0.502031     0.936276\n",
       "min       0.000000     1.797604     1.620051     3.719292\n",
       "25%       0.000000     2.601493     2.668861     5.263896\n",
       "50%       0.500000     2.913938     3.013519     5.903912\n",
       "75%       0.500000     3.238053     3.363721     6.604420\n",
       "max       3.000000     4.685100     4.755916     9.390933"
      ]
     },
     "execution_count": 15,
     "metadata": {},
     "output_type": "execute_result"
    }
   ],
   "source": [
    "rates_column = \"Hippocampus\"\n",
    "rates = pd.concat([roi_data[\"CDR\"], \n",
    "                   roi_data[\"Left-\" + rates_column] / roi_data[\"BrainSeg\"],\n",
    "                   roi_data[\"Right-\" + rates_column] / roi_data[\"BrainSeg\"],\n",
    "                   (roi_data[\"Left-\"  + rates_column] + roi_data[\"Right-\"  + rates_column]) / roi_data[\"BrainSeg\"],\n",
    "                  ], axis=1, keys=[\"CDR\", \"Rate_left\", \"Rate_right\", \"Rate_whole\"])\n",
    "rates *= 1000\n",
    "rates[\"CDR\"] = rates[\"CDR\"] / 1000\n",
    "rates.describe()"
   ]
  },
  {
   "cell_type": "code",
   "execution_count": 16,
   "metadata": {},
   "outputs": [],
   "source": [
    "NC = rates[rates[\"CDR\"] == 0]\n",
    "MCI = rates[rates[\"CDR\"] == 0.5]\n",
    "AD = rates[rates[\"CDR\"] >= 1]"
   ]
  },
  {
   "cell_type": "code",
   "execution_count": 17,
   "metadata": {},
   "outputs": [
    {
     "data": {
      "image/png": "[encoded data removed]",
      "text/plain": [
       "<Figure size 1296x504 with 3 Axes>"
      ]
     },
     "metadata": {
      "needs_background": "light"
     },
     "output_type": "display_data"
    }
   ],
   "source": [
    "from scipy.stats import f_oneway\n",
    "from scipy.stats import ttest_ind\n",
    "\n",
    "columns = [\"Rate_left\", \"Rate_right\", \"Rate_whole\"]\n",
    "fig = plt.figure(figsize=(18, 7))\n",
    "ax = {}\n",
    "\n",
    "for index, column in enumerate(columns):\n",
    "    ax[index] = fig.add_subplot(1, 3, index + 1)\n",
    "    ax[index].boxplot([NC[column], MCI[column], AD[column]])\n",
    "    ax[index].set_xticklabels([\"NC\", \"MCI\", \"AD\"])\n",
    "    y_min, y_max = ax[index].get_ylim()\n",
    "    \n",
    "    _, p = f_oneway(NC[column], MCI[column], AD[column])\n",
    "    p_NM = ttest_ind(NC[column], MCI[column]).pvalue\n",
    "    p_MA = ttest_ind(MCI[column], AD[column]).pvalue\n",
    "    p_NA = ttest_ind(NC[column], AD[column]).pvalue\n",
    "    \n",
    "    if (p < 0.05): column += '*'\n",
    "    if (p < 0.005): column += '*'\n",
    "    if (p < 0.001): column += '*'\n",
    "    ax[index].set_title(column)\n",
    "    \n",
    "    if (p_NM < 0.05): ax[index].plot([1, 2], [y_max, y_max])\n",
    "    if (p_MA < 0.05): ax[index].plot([2, 3], [y_max - 0.1, y_max - 0.1])\n",
    "    if (p_NA < 0.05): ax[index].plot([1, 3], [y_max - 0.2, y_max - 0.2])\n"
   ]
  },
  {
   "cell_type": "code",
   "execution_count": 18,
   "metadata": {},
   "outputs": [
    {
     "name": "stdout",
     "output_type": "stream",
     "text": [
      "1.7074956268178097e-107 1.2092135979723086e-92 2.297678284398488e-108\n",
      "1.7277732949630484e-72 2.8233689707458396e-17 3.0703680191191474e-90\n",
      "1.4028737764760388e-64 8.788661390796476e-14 2.5111587343552597e-76\n",
      "5.014628092429612e-74 8.003092271140946e-17 1.1120803716429004e-89\n"
     ]
    }
   ],
   "source": [
    "from scipy.stats import f_oneway\n",
    "from scipy.stats import ttest_ind\n",
    "\n",
    "fl, pl = f_oneway(NC[\"Rate_left\"], MCI[\"Rate_left\"], AD[\"Rate_left\"])\n",
    "fr, pr = f_oneway(NC[\"Rate_right\"], MCI[\"Rate_right\"], AD[\"Rate_right\"])\n",
    "fw, pw = f_oneway(NC[\"Rate_whole\"], MCI[\"Rate_whole\"], AD[\"Rate_whole\"])\n",
    "\n",
    "tpl_NM = ttest_ind(NC[\"Rate_left\"], MCI[\"Rate_left\"]).pvalue\n",
    "tpl_MA = ttest_ind(MCI[\"Rate_left\"], AD[\"Rate_left\"]).pvalue\n",
    "tpl_NA = ttest_ind(NC[\"Rate_left\"], AD[\"Rate_left\"]).pvalue\n",
    "\n",
    "tpr_NM = ttest_ind(NC[\"Rate_right\"], MCI[\"Rate_right\"]).pvalue\n",
    "tpr_MA = ttest_ind(MCI[\"Rate_right\"], AD[\"Rate_right\"]).pvalue\n",
    "tpr_NA = ttest_ind(NC[\"Rate_right\"], AD[\"Rate_right\"]).pvalue\n",
    "\n",
    "tpw_NM = ttest_ind(NC[\"Rate_whole\"], MCI[\"Rate_whole\"]).pvalue\n",
    "tpw_MA = ttest_ind(MCI[\"Rate_whole\"], AD[\"Rate_whole\"]).pvalue\n",
    "tpw_NA = ttest_ind(NC[\"Rate_whole\"], AD[\"Rate_whole\"]).pvalue\n",
    "\n",
    "print(pl, pr, pw)\n",
    "print(tpl_NM, tpl_MA, tpl_NA)\n",
    "print(tpr_NM, tpr_MA, tpr_NA)\n",
    "print(tpw_NM, tpw_MA, tpw_NA)"
   ]
  },
  {
   "cell_type": "code",
   "execution_count": null,
   "metadata": {},
   "outputs": [],
   "source": []
  }
 ],
 "metadata": {
  "kernelspec": {
   "display_name": "Python 3",
   "language": "python",
   "name": "python3"
  },
  "language_info": {
   "codemirror_mode": {
    "name": "ipython",
    "version": 3
   },
   "file_extension": ".py",
   "mimetype": "text/x-python",
   "name": "python",
   "nbconvert_exporter": "python",
   "pygments_lexer": "ipython3",
   "version": "3.6.8"
  }
 },
 "nbformat": 4,
 "nbformat_minor": 2
}
