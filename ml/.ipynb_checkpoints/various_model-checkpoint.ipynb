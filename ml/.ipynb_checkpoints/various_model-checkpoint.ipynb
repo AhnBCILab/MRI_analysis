{
 "cells": [
  {
   "cell_type": "code",
   "execution_count": 1,
   "metadata": {
    "colab": {},
    "colab_type": "code",
    "id": "oOtGUbjaHS8j"
   },
   "outputs": [],
   "source": [
    "%matplotlib inline\n",
    "import numpy as np\n",
    "import matplotlib.pyplot as plt\n",
    "import pandas as pd"
   ]
  },
  {
   "cell_type": "code",
   "execution_count": 2,
   "metadata": {
    "colab": {
     "base_uri": "https://localhost:8080/",
     "height": 71
    },
    "colab_type": "code",
    "executionInfo": {
     "elapsed": 1098,
     "status": "ok",
     "timestamp": 1586278232731,
     "user": {
      "displayName": "정혜윰학부생",
      "photoUrl": "",
      "userId": "17524910910845976909"
     },
     "user_tz": -540
    },
    "id": "XVFX_XfoHS8o",
    "outputId": "1e8a1ced-176f-4c25-f94b-3ae21a2ebaea",
    "scrolled": true
   },
   "outputs": [
    {
     "name": "stderr",
     "output_type": "stream",
     "text": [
      "/Users/hyeyoom/anaconda3/lib/python3.6/site-packages/pandas/core/ops.py:1649: FutureWarning: elementwise comparison failed; returning scalar instead, but in the future will perform elementwise comparison\n",
      "  result = method(y)\n"
     ]
    }
   ],
   "source": [
    "raw_data = pd.read_csv('./output.csv')\n",
    "raw_data = raw_data[raw_data[\"CDR\"] != \"None\"]\n",
    "for column in raw_data.columns[32:]:\n",
    "    raw_data = raw_data[raw_data[column] != \"None\"]\n",
    "# raw_data.info()"
   ]
  },
  {
   "cell_type": "code",
   "execution_count": 3,
   "metadata": {
    "colab": {
     "base_uri": "https://localhost:8080/",
     "height": 612
    },
    "colab_type": "code",
    "executionInfo": {
     "elapsed": 979,
     "status": "ok",
     "timestamp": 1586278234269,
     "user": {
      "displayName": "정혜윰학부생",
      "photoUrl": "",
      "userId": "17524910910845976909"
     },
     "user_tz": -540
    },
    "id": "dkSfOC2nHS8s",
    "outputId": "11a1f16a-019b-43d5-e411-f0819bd3d39f"
   },
   "outputs": [],
   "source": [
    "# interest_col = [ # All Features\n",
    "#      'CDR', 'BrainSeg',\n",
    "#        'BrainSegNotVent', 'BrainSegNotVentSurf', 'VentricleChoroidVol',\n",
    "#        'lhCortex', 'rhCortex', 'Cortex', 'lhCerebralWhiteMatter',\n",
    "#        'rhCerebralWhiteMatter', 'CerebralWhiteMatter', 'SubCortGray',\n",
    "#        'TotalGray', 'SupraTentorial', 'SupraTentorialNotVent',\n",
    "#        'SupraTentorialNotVentVox', 'Mask', 'BrainSegVol-to-eTIV',\n",
    "#        'MaskVol-to-eTIV', 'lhSurfaceHoles', 'rhSurfaceHoles', 'SurfaceHoles',\n",
    "#        'EstimatedTotalIntraCranialVol', 'Left-Lateral-Ventricle',\n",
    "#        'Left-Inf-Lat-Vent', 'Left-Cerebellum-White-Matter',\n",
    "#        'Left-Cerebellum-Cortex', 'Left-Thalamus-Proper', 'Left-Caudate',\n",
    "#        'Left-Putamen', 'Left-Pallidum', '3rd-Ventricle', '4th-Ventricle',\n",
    "#        'Brain-Stem', 'Left-Hippocampus', 'Left-Amygdala', 'CSF',\n",
    "#        'Left-Accumbens-area', 'Left-VentralDC', 'Left-vessel',\n",
    "#        'Left-choroid-plexus', 'Right-Lateral-Ventricle', 'Right-Inf-Lat-Vent',\n",
    "#        'Right-Cerebellum-White-Matter', 'Right-Cerebellum-Cortex',\n",
    "#        'Right-Thalamus-Proper', 'Right-Caudate', 'Right-Putamen',\n",
    "#        'Right-Pallidum', 'Right-Hippocampus', 'Right-Amygdala',\n",
    "#        'Right-Accumbens-area', 'Right-VentralDC', 'Right-vessel',\n",
    "#        'Right-choroid-plexus', 'Optic-Chiasm', 'CC_Posterior',\n",
    "#        'CC_Mid_Posterior', 'CC_Central', 'CC_Mid_Anterior', 'CC_Anterior',\n",
    "#        'WM-hypointensities', 'non-WM-hypointensities']\n",
    "\n",
    "# interest_col = [ # Step 1\n",
    "#      'CDR',\n",
    "#        'BrainSegNotVent', 'BrainSegNotVentSurf', 'VentricleChoroidVol',\n",
    "#        'lhCortex', 'rhCortex', 'Cortex', 'lhCerebralWhiteMatter',\n",
    "#        'rhCerebralWhiteMatter', 'CerebralWhiteMatter', 'SubCortGray',\n",
    "#        'TotalGray', 'SupraTentorialNotVent',\n",
    "#        'SupraTentorialNotVentVox', 'Mask', 'BrainSegVol-to-eTIV',\n",
    "#        'lhSurfaceHoles', 'SurfaceHoles',\n",
    "#        'EstimatedTotalIntraCranialVol', 'Left-Lateral-Ventricle',\n",
    "#        'Left-Inf-Lat-Vent',\n",
    "#        'Left-Cerebellum-Cortex', 'Left-Caudate',\n",
    "#        'Left-Putamen', '3rd-Ventricle',\n",
    "#        'Brain-Stem', 'Left-Hippocampus', 'Left-Amygdala', 'CSF',\n",
    "#        'Left-Accumbens-area',\n",
    "#        'Left-choroid-plexus', 'Right-Lateral-Ventricle', 'Right-Inf-Lat-Vent',\n",
    "#        'Right-Cerebellum-Cortex',\n",
    "#        'Right-Caudate', 'Right-Putamen',\n",
    "#        'Right-Hippocampus', 'Right-Amygdala',\n",
    "#        'Right-Accumbens-area', 'Right-vessel',\n",
    "#        'Optic-Chiasm', 'CC_Posterior',\n",
    "#        'CC_Central', 'CC_Mid_Anterior',\n",
    "#        'WM-hypointensities', 'non-WM-hypointensities']\n",
    "\n",
    "interest_col = [ # Step 2\n",
    "     'CDR',\n",
    "       'VentricleChoroidVol',\n",
    "       'lhCortex', 'rhCortex', 'Cortex',\n",
    "       'SubCortGray', 'TotalGray', \n",
    "       'BrainSegVol-to-eTIV',\n",
    "       'lhSurfaceHoles', 'SurfaceHoles',\n",
    "       'Left-Lateral-Ventricle', 'Right-Lateral-Ventricle',\n",
    "       'Left-Inf-Lat-Vent', 'Right-Inf-Lat-Vent',\n",
    "       'Left-Putamen', 'Right-Putamen', '3rd-Ventricle',\n",
    "       'Left-Hippocampus', 'Left-Amygdala', 'CSF',\n",
    "       'Right-Hippocampus', 'Right-Amygdala',\n",
    "       'Left-Accumbens-area', 'Right-Accumbens-area',\n",
    "       'Left-choroid-plexus', 'CC_Mid_Anterior',\n",
    "       'WM-hypointensities', 'non-WM-hypointensities']\n",
    "\n",
    "roi_data = raw_data[interest_col]\n",
    "# roi_data.info()"
   ]
  },
  {
   "cell_type": "code",
   "execution_count": 4,
   "metadata": {
    "colab": {},
    "colab_type": "code",
    "id": "JmWFLIpnHS8v"
   },
   "outputs": [],
   "source": [
    "roi_data = roi_data.assign(CDR=lambda s: s['CDR'].astype('float'))\n",
    "roi_data = roi_data.mask(roi_data['CDR'] < 0).dropna()\n",
    "roi_data = roi_data[roi_data != 0]"
   ]
  },
  {
   "cell_type": "code",
   "execution_count": 5,
   "metadata": {
    "colab": {
     "base_uri": "https://localhost:8080/",
     "height": 71
    },
    "colab_type": "code",
    "executionInfo": {
     "elapsed": 547,
     "status": "ok",
     "timestamp": 1586278252935,
     "user": {
      "displayName": "정혜윰학부생",
      "photoUrl": "",
      "userId": "17524910910845976909"
     },
     "user_tz": -540
    },
    "id": "0PL5ct0SHS8z",
    "outputId": "eafdba7c-2c77-403b-9b66-f49916d0f0a1"
   },
   "outputs": [],
   "source": [
    "features_all = roi_data.mask(roi_data.eq(\"None\")).dropna().astype('float')\n",
    "features_all_x = features_all[list(filter(lambda x: x != \"CDR\", list(features_all.columns)))].values\n",
    "features_all_y = features_all['CDR'].values"
   ]
  },
  {
   "cell_type": "code",
   "execution_count": 6,
   "metadata": {
    "colab": {},
    "colab_type": "code",
    "id": "34WeHiMKHS83"
   },
   "outputs": [],
   "source": [
    "from sklearn.model_selection import train_test_split\n",
    "from sklearn import preprocessing\n",
    "\n",
    "all_train_x, all_test_x, all_train_y, all_test_y = train_test_split(features_all_x, features_all_y, test_size=0.3)\n",
    "\n",
    "lab_enc = preprocessing.LabelEncoder()\n",
    "all_train_y_c = lab_enc.fit_transform(all_train_y)\n",
    "all_test_y_c = lab_enc.fit_transform(all_test_y)"
   ]
  },
  {
   "cell_type": "markdown",
   "metadata": {
    "colab_type": "text",
    "id": "_OHLh2bqHS9c"
   },
   "source": [
    "# 3-Class Classification\n",
    "결과가 있는 .xml 파일이 현재 없어서 일단 CDR값으로 나눠 분류하였다"
   ]
  },
  {
   "cell_type": "code",
   "execution_count": 7,
   "metadata": {
    "colab": {},
    "colab_type": "code",
    "id": "aUbXHNMkHS9e"
   },
   "outputs": [],
   "source": [
    "roi_data['CDR'] = roi_data['CDR'].replace(3.0, 2.0)\n",
    "roi_data['CDR'] = roi_data['CDR'].replace(1.0, 2.0)\n",
    "roi_data['CDR'] = roi_data['CDR'].replace(0.5, 1.0)"
   ]
  },
  {
   "cell_type": "code",
   "execution_count": 8,
   "metadata": {
    "colab": {
     "base_uri": "https://localhost:8080/",
     "height": 71
    },
    "colab_type": "code",
    "executionInfo": {
     "elapsed": 1008,
     "status": "ok",
     "timestamp": 1586278261913,
     "user": {
      "displayName": "정혜윰학부생",
      "photoUrl": "",
      "userId": "17524910910845976909"
     },
     "user_tz": -540
    },
    "id": "GOo0sX7pHS9j",
    "outputId": "bd8d8c99-3b39-4cd2-9eb3-3cde234a97f9"
   },
   "outputs": [
    {
     "name": "stderr",
     "output_type": "stream",
     "text": [
      "/Users/hyeyoom/anaconda3/lib/python3.6/site-packages/pandas/core/ops.py:1649: FutureWarning: elementwise comparison failed; returning scalar instead, but in the future will perform elementwise comparison\n",
      "  result = method(y)\n"
     ]
    }
   ],
   "source": [
    "features_all = roi_data.mask(roi_data.eq(\"None\")).dropna().astype('float')\n",
    "features_all_x = features_all[list(filter(lambda x: x != \"CDR\", list(features_all.columns)))].values\n",
    "features_all_y = features_all['CDR'].values\n",
    "\n",
    "from sklearn.model_selection import train_test_split\n",
    "from sklearn import preprocessing\n",
    "\n",
    "all_train_x, all_test_x, all_train_y, all_test_y = train_test_split(features_all_x, features_all_y, test_size=0.3)\n",
    "\n",
    "lab_enc = preprocessing.LabelEncoder()\n",
    "all_train_y_c = lab_enc.fit_transform(all_train_y)\n",
    "all_test_y_c = lab_enc.fit_transform(all_test_y)"
   ]
  },
  {
   "cell_type": "markdown",
   "metadata": {
    "colab_type": "text",
    "id": "buwl3eqMHS9m"
   },
   "source": [
    "## SVM\n",
    "### Non-linear SVM"
   ]
  },
  {
   "cell_type": "code",
   "execution_count": 10,
   "metadata": {
    "colab": {
     "base_uri": "https://localhost:8080/",
     "height": 51
    },
    "colab_type": "code",
    "executionInfo": {
     "elapsed": 1073,
     "status": "ok",
     "timestamp": 1586278265496,
     "user": {
      "displayName": "정혜윰학부생",
      "photoUrl": "",
      "userId": "17524910910845976909"
     },
     "user_tz": -540
    },
    "id": "eu5WD0UUHS9n",
    "outputId": "de6b908a-0583-47d5-a408-effa4831f4cd"
   },
   "outputs": [
    {
     "name": "stdout",
     "output_type": "stream",
     "text": [
      "Metric: accuracy\n",
      "All features: 0.823529\n"
     ]
    },
    {
     "name": "stderr",
     "output_type": "stream",
     "text": [
      "/Users/hyeyoom/anaconda3/lib/python3.6/site-packages/sklearn/svm/base.py:196: FutureWarning: The default value of gamma will change from 'auto' to 'scale' in version 0.22 to account better for unscaled features. Set gamma explicitly to 'auto' or 'scale' to avoid this warning.\n",
      "  \"avoid this warning.\", FutureWarning)\n"
     ]
    }
   ],
   "source": [
    "from sklearn.svm import SVC\n",
    "from sklearn.metrics import accuracy_score\n",
    "\n",
    "svc_all = base_estimator=SVC(kernel='rbf').fit(all_train_x, all_train_y_c)\n",
    "\n",
    "result_svc_all = svc_all.predict(all_test_x)\n",
    "\n",
    "acc_svc_all = accuracy_score(all_test_y_c, result_svc_all)\n",
    "\n",
    "print(\"Metric: accuracy\")\n",
    "print(\"All features: %f\" % acc_svc_all)"
   ]
  },
  {
   "cell_type": "markdown",
   "metadata": {
    "colab_type": "text",
    "id": "D6XC3S4eB8Iq"
   },
   "source": [
    "### Linear SVM"
   ]
  },
  {
   "cell_type": "code",
   "execution_count": 11,
   "metadata": {
    "colab": {
     "base_uri": "https://localhost:8080/",
     "height": 51
    },
    "colab_type": "code",
    "executionInfo": {
     "elapsed": 9453,
     "status": "ok",
     "timestamp": 1586278287116,
     "user": {
      "displayName": "정혜윰학부생",
      "photoUrl": "",
      "userId": "17524910910845976909"
     },
     "user_tz": -540
    },
    "id": "3KR8TMMxB-rO",
    "outputId": "0702a8d8-21a6-46fd-aa0e-c9025f0354ad"
   },
   "outputs": [
    {
     "name": "stdout",
     "output_type": "stream",
     "text": [
      "Metric: accuracy\n",
      "All features: 0.764706\n"
     ]
    }
   ],
   "source": [
    "from sklearn.svm import SVC\n",
    "from sklearn.metrics import accuracy_score\n",
    "\n",
    "svc_all = base_estimator=SVC(kernel='linear').fit(all_train_x, all_train_y_c)\n",
    "result_svc_all = svc_all.predict(all_test_x)\n",
    "acc_svc_all = accuracy_score(all_test_y_c, result_svc_all)\n",
    "\n",
    "print(\"Metric: accuracy\")\n",
    "print(\"All features: %f\" % acc_svc_all)"
   ]
  },
  {
   "cell_type": "markdown",
   "metadata": {
    "colab_type": "text",
    "id": "kwYM6ol2HS9r"
   },
   "source": [
    "## Random Forest Classifier"
   ]
  },
  {
   "cell_type": "code",
   "execution_count": 12,
   "metadata": {
    "colab": {
     "base_uri": "https://localhost:8080/",
     "height": 51
    },
    "colab_type": "code",
    "executionInfo": {
     "elapsed": 914,
     "status": "ok",
     "timestamp": 1586278061727,
     "user": {
      "displayName": "정혜윰학부생",
      "photoUrl": "",
      "userId": "17524910910845976909"
     },
     "user_tz": -540
    },
    "id": "0BFPa8oSHS9s",
    "outputId": "e3e9318d-e541-4858-e88b-7b6e711d1180"
   },
   "outputs": [
    {
     "name": "stdout",
     "output_type": "stream",
     "text": [
      "Metric: accuracy\n",
      "All features: 0.823529\n"
     ]
    }
   ],
   "source": [
    "from sklearn.ensemble import RandomForestClassifier\n",
    "from sklearn.metrics import accuracy_score\n",
    "\n",
    "rf_all = RandomForestClassifier(n_estimators=100).fit(all_train_x, all_train_y_c)\n",
    "\n",
    "result_rf_all = rf_all.predict(all_test_x)\n",
    "\n",
    "acc_rf_all = accuracy_score(all_test_y_c, result_rf_all)\n",
    "\n",
    "print(\"Metric: accuracy\")\n",
    "print(\"All features: %f\" % acc_rf_all)"
   ]
  },
  {
   "cell_type": "markdown",
   "metadata": {
    "colab_type": "text",
    "id": "Xk1Oj8tJHS9w"
   },
   "source": [
    "## Random Forest Regression"
   ]
  },
  {
   "cell_type": "code",
   "execution_count": 53,
   "metadata": {
    "colab": {
     "base_uri": "https://localhost:8080/",
     "height": 85
    },
    "colab_type": "code",
    "executionInfo": {
     "elapsed": 1100,
     "status": "ok",
     "timestamp": 1586278065310,
     "user": {
      "displayName": "정혜윰학부생",
      "photoUrl": "",
      "userId": "17524910910845976909"
     },
     "user_tz": -540
    },
    "id": "UKF1GSm-HS9y",
    "outputId": "112e3c0c-2950-4b3b-c638-17fa55aeb343"
   },
   "outputs": [
    {
     "name": "stdout",
     "output_type": "stream",
     "text": [
      "Metric: MSE\n",
      "All features: 1.295128\n",
      "Metric: accuracy\n",
      "All features: 0.760000\n"
     ]
    }
   ],
   "source": [
    "from sklearn.ensemble import RandomForestRegressor\n",
    "from sklearn.metrics import mean_squared_error\n",
    "from sklearn.metrics import accuracy_score\n",
    "from sklearn import preprocessing\n",
    "\n",
    "rfr_all = RandomForestRegressor(n_estimators=100).fit(all_train_x, all_train_y)\n",
    "\n",
    "result_rfr_all = rfr_all.predict(all_test_x)\n",
    "\n",
    "acc_rfr_all = mean_squared_error(all_test_y_c, result_rfr_all)\n",
    "\n",
    "print(\"Metric: MSE\")\n",
    "print(\"All features: %f\" % acc_rfr_all)\n",
    "\n",
    "def find_nearest(array, value):\n",
    "    array = np.asarray(array)\n",
    "    idx = (np.abs(array - value)).argmin()\n",
    "    return array[idx]\n",
    "\n",
    "lab_enc = preprocessing.LabelEncoder()\n",
    "result_rfr_all_c = lab_enc.fit_transform([find_nearest([0, 1, 2], value) for value in result_rfr_all])\n",
    "\n",
    "acc_rfr_all_c = accuracy_score(all_test_y_c, result_rfr_all_c)\n",
    "\n",
    "print(\"Metric: accuracy\")\n",
    "print(\"All features: %f\" % acc_rfr_all_c)"
   ]
  },
  {
   "cell_type": "markdown",
   "metadata": {
    "colab_type": "text",
    "id": "insxMk1QHS-F"
   },
   "source": [
    "# 10-Fold validation with Random Forest"
   ]
  },
  {
   "cell_type": "code",
   "execution_count": 69,
   "metadata": {
    "colab": {
     "base_uri": "https://localhost:8080/",
     "height": 258
    },
    "colab_type": "code",
    "executionInfo": {
     "elapsed": 3327,
     "status": "ok",
     "timestamp": 1586278323866,
     "user": {
      "displayName": "정혜윰학부생",
      "photoUrl": "",
      "userId": "17524910910845976909"
     },
     "user_tz": -540
    },
    "id": "xxZ15Wi3HS-G",
    "outputId": "e9aa56a0-455f-435b-81ae-b91ecfa6cc54"
   },
   "outputs": [
    {
     "name": "stderr",
     "output_type": "stream",
     "text": [
      "/usr/local/lib/python3.6/dist-packages/pandas/core/ops/array_ops.py:253: FutureWarning: elementwise comparison failed; returning scalar instead, but in the future will perform elementwise comparison\n",
      "  res_values = method(rvalues)\n"
     ]
    },
    {
     "name": "stdout",
     "output_type": "stream",
     "text": [
      "Acc 0: 0.764706\n",
      "Acc 1: 0.705882\n",
      "Acc 2: 0.705882\n",
      "Acc 3: 1.000000\n",
      "Acc 4: 0.588235\n",
      "Acc 5: 0.764706\n",
      "Acc 6: 0.764706\n",
      "Acc 7: 0.823529\n",
      "Acc 8: 0.882353\n",
      "Acc 9: 0.750000\n",
      "Total Acc: 0.775000\n"
     ]
    }
   ],
   "source": [
    "import numpy as np\n",
    "from sklearn.model_selection import KFold\n",
    "from sklearn.model_selection import train_test_split\n",
    "from sklearn.ensemble import RandomForestRegressor\n",
    "from sklearn.metrics import accuracy_score\n",
    "\n",
    "def find_nearest(array, value):\n",
    "    array = np.asarray(array)\n",
    "    idx = (np.abs(array - value)).argmin()\n",
    "    return array[idx]\n",
    "\n",
    "# interest_col = [ # All Features\n",
    "#      'CDR', 'BrainSeg',\n",
    "#        'BrainSegNotVent', 'BrainSegNotVentSurf', 'VentricleChoroidVol',\n",
    "#        'lhCortex', 'rhCortex', 'Cortex', 'lhCerebralWhiteMatter',\n",
    "#        'rhCerebralWhiteMatter', 'CerebralWhiteMatter', 'SubCortGray',\n",
    "#        'TotalGray', 'SupraTentorial', 'SupraTentorialNotVent',\n",
    "#        'SupraTentorialNotVentVox', 'Mask', 'BrainSegVol-to-eTIV',\n",
    "#        'MaskVol-to-eTIV', 'lhSurfaceHoles', 'rhSurfaceHoles', 'SurfaceHoles',\n",
    "#        'EstimatedTotalIntraCranialVol', 'Left-Lateral-Ventricle',\n",
    "#        'Left-Inf-Lat-Vent', 'Left-Cerebellum-White-Matter',\n",
    "#        'Left-Cerebellum-Cortex', 'Left-Thalamus-Proper', 'Left-Caudate',\n",
    "#        'Left-Putamen', 'Left-Pallidum', '3rd-Ventricle', '4th-Ventricle',\n",
    "#        'Brain-Stem', 'Left-Hippocampus', 'Left-Amygdala', 'CSF',\n",
    "#        'Left-Accumbens-area', 'Left-VentralDC', 'Left-vessel',\n",
    "#        'Left-choroid-plexus', 'Right-Lateral-Ventricle', 'Right-Inf-Lat-Vent',\n",
    "#        'Right-Cerebellum-White-Matter', 'Right-Cerebellum-Cortex',\n",
    "#        'Right-Thalamus-Proper', 'Right-Caudate', 'Right-Putamen',\n",
    "#        'Right-Pallidum', 'Right-Hippocampus', 'Right-Amygdala',\n",
    "#        'Right-Accumbens-area', 'Right-VentralDC', 'Right-vessel',\n",
    "#        'Right-choroid-plexus', 'Optic-Chiasm', 'CC_Posterior',\n",
    "#        'CC_Mid_Posterior', 'CC_Central', 'CC_Mid_Anterior', 'CC_Anterior',\n",
    "#        'WM-hypointensities', 'non-WM-hypointensities']\n",
    "\n",
    "# interest_col = [ # Step 1\n",
    "#      'CDR',\n",
    "#        'BrainSegNotVent', 'BrainSegNotVentSurf', 'VentricleChoroidVol',\n",
    "#        'lhCortex', 'rhCortex', 'Cortex', 'lhCerebralWhiteMatter',\n",
    "#        'rhCerebralWhiteMatter', 'CerebralWhiteMatter', 'SubCortGray',\n",
    "#        'TotalGray', 'SupraTentorialNotVent',\n",
    "#        'SupraTentorialNotVentVox', 'Mask', 'BrainSegVol-to-eTIV',\n",
    "#        'lhSurfaceHoles', 'SurfaceHoles',\n",
    "#        'EstimatedTotalIntraCranialVol', 'Left-Lateral-Ventricle',\n",
    "#        'Left-Inf-Lat-Vent',\n",
    "#        'Left-Cerebellum-Cortex', 'Left-Caudate',\n",
    "#        'Left-Putamen', '3rd-Ventricle',\n",
    "#        'Brain-Stem', 'Left-Hippocampus', 'Left-Amygdala', 'CSF',\n",
    "#        'Left-Accumbens-area',\n",
    "#        'Left-choroid-plexus', 'Right-Lateral-Ventricle', 'Right-Inf-Lat-Vent',\n",
    "#        'Right-Cerebellum-Cortex',\n",
    "#        'Right-Caudate', 'Right-Putamen',\n",
    "#        'Right-Hippocampus', 'Right-Amygdala',\n",
    "#        'Right-Accumbens-area', 'Right-vessel',\n",
    "#        'Optic-Chiasm', 'CC_Posterior',\n",
    "#        'CC_Central', 'CC_Mid_Anterior',\n",
    "#        'WM-hypointensities', 'non-WM-hypointensities']\n",
    "\n",
    "interest_col = [ # Step 2\n",
    "     'CDR',\n",
    "       'VentricleChoroidVol',\n",
    "       'lhCortex', 'rhCortex', 'Cortex',\n",
    "       'SubCortGray', 'TotalGray', \n",
    "       'BrainSegVol-to-eTIV',\n",
    "       'lhSurfaceHoles', 'SurfaceHoles',\n",
    "       'Left-Lateral-Ventricle', 'Right-Lateral-Ventricle',\n",
    "       'Left-Inf-Lat-Vent', 'Right-Inf-Lat-Vent',\n",
    "       'Left-Putamen', 'Right-Putamen', '3rd-Ventricle',\n",
    "       'Left-Hippocampus', 'Left-Amygdala', 'CSF',\n",
    "       'Right-Hippocampus', 'Right-Amygdala',\n",
    "       'Left-Accumbens-area', 'Right-Accumbens-area',\n",
    "       'Left-choroid-plexus', 'CC_Mid_Anterior',\n",
    "       'WM-hypointensities', 'non-WM-hypointensities']\n",
    "\n",
    "roi_data = raw_data[interest_col]\n",
    "roi_data = roi_data.assign(CDR=lambda s: s['CDR'].astype('float'))\n",
    "roi_data = roi_data.mask(roi_data['CDR'] < 0).dropna()\n",
    "roi_data = roi_data[roi_data != 0]\n",
    "\n",
    "roi_data['CDR'] = roi_data['CDR'].replace(3.0, 2.0)\n",
    "roi_data['CDR'] = roi_data['CDR'].replace(1.0, 2.0)\n",
    "roi_data['CDR'] = roi_data['CDR'].replace(0.5, 1.0)\n",
    "\n",
    "features_all = roi_data.mask(roi_data.eq(\"None\")).dropna().astype('float')\n",
    "features_all_x = features_all[list(filter(lambda x: x != \"CDR\", list(features_all.columns)))].values\n",
    "features_all_y = features_all['CDR'].values\n",
    "\n",
    "n_fold = 10\n",
    "kf = KFold(n_splits=n_fold, shuffle=True)\n",
    "total_acc = 0.\n",
    "for idx, (train_idx, test_idx) in enumerate(kf.split(features_all_x)):\n",
    "    X_train, X_test = features_all_x[train_idx], features_all_x[test_idx]\n",
    "    y_train, y_test = features_all_y[train_idx], features_all_y[test_idx]\n",
    "    \n",
    "    rfr = RandomForestRegressor(n_estimators=100).fit(X_train, y_train)\n",
    "    result = [find_nearest([0, 1, 2], value) for value in rfr.predict(X_test)]\n",
    "    acc = accuracy_score(y_test, result)\n",
    "    total_acc += acc\n",
    "    print(\"Acc %d: %f\" % (idx, acc))\n",
    "    \n",
    "total_acc /= n_fold\n",
    "print(\"Total Acc: %f\" % total_acc)"
   ]
  },
  {
   "cell_type": "markdown",
   "metadata": {
    "colab_type": "text",
    "id": "sm8GAJI8OUCC"
   },
   "source": [
    "### 10*10 Fold Validation"
   ]
  },
  {
   "cell_type": "code",
   "execution_count": 70,
   "metadata": {
    "colab": {
     "base_uri": "https://localhost:8080/",
     "height": 1000
    },
    "colab_type": "code",
    "executionInfo": {
     "elapsed": 22339,
     "status": "ok",
     "timestamp": 1586278377886,
     "user": {
      "displayName": "정혜윰학부생",
      "photoUrl": "",
      "userId": "17524910910845976909"
     },
     "user_tz": -540
    },
    "id": "j94LZeTyK_3i",
    "outputId": "70639182-5cfa-49dc-99cb-51fa196411f1"
   },
   "outputs": [
    {
     "name": "stderr",
     "output_type": "stream",
     "text": [
      "/usr/local/lib/python3.6/dist-packages/pandas/core/ops/array_ops.py:253: FutureWarning: elementwise comparison failed; returning scalar instead, but in the future will perform elementwise comparison\n",
      "  res_values = method(rvalues)\n"
     ]
    },
    {
     "name": "stdout",
     "output_type": "stream",
     "text": [
      "Acc 0: 0.823529\n",
      "Acc 1: 0.764706\n",
      "Acc 2: 0.764706\n",
      "Acc 3: 0.764706\n",
      "Acc 4: 0.764706\n",
      "Acc 5: 0.823529\n",
      "Acc 6: 0.882353\n",
      "Acc 7: 0.882353\n",
      "Acc 8: 0.647059\n",
      "Acc 9: 0.687500\n",
      "Acc 10: 0.882353\n",
      "Acc 11: 0.764706\n",
      "Acc 12: 0.764706\n",
      "Acc 13: 0.764706\n",
      "Acc 14: 0.823529\n",
      "Acc 15: 0.941176\n",
      "Acc 16: 0.705882\n",
      "Acc 17: 0.882353\n",
      "Acc 18: 0.823529\n",
      "Acc 19: 0.750000\n",
      "Acc 20: 0.764706\n",
      "Acc 21: 0.647059\n",
      "Acc 22: 0.647059\n",
      "Acc 23: 0.823529\n",
      "Acc 24: 0.823529\n",
      "Acc 25: 0.647059\n",
      "Acc 26: 0.705882\n",
      "Acc 27: 0.941176\n",
      "Acc 28: 0.705882\n",
      "Acc 29: 0.937500\n",
      "Acc 30: 0.882353\n",
      "Acc 31: 0.764706\n",
      "Acc 32: 0.941176\n",
      "Acc 33: 0.764706\n",
      "Acc 34: 0.705882\n",
      "Acc 35: 0.588235\n",
      "Acc 36: 0.941176\n",
      "Acc 37: 0.764706\n",
      "Acc 38: 0.882353\n",
      "Acc 39: 0.625000\n",
      "Acc 40: 0.941176\n",
      "Acc 41: 0.823529\n",
      "Acc 42: 0.705882\n",
      "Acc 43: 0.823529\n",
      "Acc 44: 0.588235\n",
      "Acc 45: 0.764706\n",
      "Acc 46: 0.647059\n",
      "Acc 47: 0.882353\n",
      "Acc 48: 0.705882\n",
      "Acc 49: 0.875000\n",
      "Acc 50: 0.705882\n",
      "Acc 51: 0.882353\n",
      "Acc 52: 0.764706\n",
      "Acc 53: 0.588235\n",
      "Acc 54: 0.882353\n",
      "Acc 55: 0.823529\n",
      "Acc 56: 0.823529\n",
      "Acc 57: 0.705882\n",
      "Acc 58: 0.647059\n",
      "Acc 59: 1.000000\n",
      "Acc 60: 0.823529\n",
      "Acc 61: 0.882353\n",
      "Acc 62: 0.764706\n",
      "Acc 63: 0.705882\n",
      "Acc 64: 0.941176\n",
      "Acc 65: 0.823529\n",
      "Acc 66: 0.764706\n",
      "Acc 67: 0.764706\n",
      "Acc 68: 0.764706\n",
      "Acc 69: 0.687500\n",
      "Acc 70: 0.941176\n",
      "Acc 71: 0.823529\n",
      "Acc 72: 0.764706\n",
      "Acc 73: 0.705882\n",
      "Acc 74: 0.764706\n",
      "Acc 75: 0.764706\n",
      "Acc 76: 0.941176\n",
      "Acc 77: 0.705882\n",
      "Acc 78: 0.705882\n",
      "Acc 79: 0.875000\n",
      "Acc 80: 0.941176\n",
      "Acc 81: 0.647059\n",
      "Acc 82: 0.882353\n",
      "Acc 83: 0.529412\n",
      "Acc 84: 0.823529\n",
      "Acc 85: 0.764706\n",
      "Acc 86: 0.647059\n",
      "Acc 87: 0.823529\n",
      "Acc 88: 0.764706\n",
      "Acc 89: 0.875000\n",
      "Acc 90: 0.588235\n",
      "Acc 91: 0.764706\n",
      "Acc 92: 0.941176\n",
      "Acc 93: 0.941176\n",
      "Acc 94: 0.764706\n",
      "Acc 95: 0.705882\n",
      "Acc 96: 0.764706\n",
      "Acc 97: 0.823529\n",
      "Acc 98: 0.823529\n",
      "Acc 99: 0.812500\n",
      "Total Acc: 7.853676\n"
     ]
    }
   ],
   "source": [
    "import numpy as np\n",
    "from sklearn.model_selection import KFold\n",
    "from sklearn.model_selection import RepeatedKFold\n",
    "from sklearn.model_selection import train_test_split\n",
    "from sklearn.ensemble import RandomForestRegressor\n",
    "from sklearn.metrics import accuracy_score\n",
    "\n",
    "def find_nearest(array, value):\n",
    "    array = np.asarray(array)\n",
    "    idx = (np.abs(array - value)).argmin()\n",
    "    return array[idx]\n",
    "\n",
    "# interest_col = [ # All Features\n",
    "#      'CDR', 'BrainSeg',\n",
    "#        'BrainSegNotVent', 'BrainSegNotVentSurf', 'VentricleChoroidVol',\n",
    "#        'lhCortex', 'rhCortex', 'Cortex', 'lhCerebralWhiteMatter',\n",
    "#        'rhCerebralWhiteMatter', 'CerebralWhiteMatter', 'SubCortGray',\n",
    "#        'TotalGray', 'SupraTentorial', 'SupraTentorialNotVent',\n",
    "#        'SupraTentorialNotVentVox', 'Mask', 'BrainSegVol-to-eTIV',\n",
    "#        'MaskVol-to-eTIV', 'lhSurfaceHoles', 'rhSurfaceHoles', 'SurfaceHoles',\n",
    "#        'EstimatedTotalIntraCranialVol', 'Left-Lateral-Ventricle',\n",
    "#        'Left-Inf-Lat-Vent', 'Left-Cerebellum-White-Matter',\n",
    "#        'Left-Cerebellum-Cortex', 'Left-Thalamus-Proper', 'Left-Caudate',\n",
    "#        'Left-Putamen', 'Left-Pallidum', '3rd-Ventricle', '4th-Ventricle',\n",
    "#        'Brain-Stem', 'Left-Hippocampus', 'Left-Amygdala', 'CSF',\n",
    "#        'Left-Accumbens-area', 'Left-VentralDC', 'Left-vessel',\n",
    "#        'Left-choroid-plexus', 'Right-Lateral-Ventricle', 'Right-Inf-Lat-Vent',\n",
    "#        'Right-Cerebellum-White-Matter', 'Right-Cerebellum-Cortex',\n",
    "#        'Right-Thalamus-Proper', 'Right-Caudate', 'Right-Putamen',\n",
    "#        'Right-Pallidum', 'Right-Hippocampus', 'Right-Amygdala',\n",
    "#        'Right-Accumbens-area', 'Right-VentralDC', 'Right-vessel',\n",
    "#        'Right-choroid-plexus', 'Optic-Chiasm', 'CC_Posterior',\n",
    "#        'CC_Mid_Posterior', 'CC_Central', 'CC_Mid_Anterior', 'CC_Anterior',\n",
    "#        'WM-hypointensities', 'non-WM-hypointensities']\n",
    "\n",
    "# interest_col = [ # Step 1\n",
    "#      'CDR',\n",
    "#        'BrainSegNotVent', 'BrainSegNotVentSurf', 'VentricleChoroidVol',\n",
    "#        'lhCortex', 'rhCortex', 'Cortex', 'lhCerebralWhiteMatter',\n",
    "#        'rhCerebralWhiteMatter', 'CerebralWhiteMatter', 'SubCortGray',\n",
    "#        'TotalGray', 'SupraTentorialNotVent',\n",
    "#        'SupraTentorialNotVentVox', 'Mask', 'BrainSegVol-to-eTIV',\n",
    "#        'lhSurfaceHoles', 'SurfaceHoles',\n",
    "#        'EstimatedTotalIntraCranialVol', 'Left-Lateral-Ventricle',\n",
    "#        'Left-Inf-Lat-Vent',\n",
    "#        'Left-Cerebellum-Cortex', 'Left-Caudate',\n",
    "#        'Left-Putamen', '3rd-Ventricle',\n",
    "#        'Brain-Stem', 'Left-Hippocampus', 'Left-Amygdala', 'CSF',\n",
    "#        'Left-Accumbens-area',\n",
    "#        'Left-choroid-plexus', 'Right-Lateral-Ventricle', 'Right-Inf-Lat-Vent',\n",
    "#        'Right-Cerebellum-Cortex',\n",
    "#        'Right-Caudate', 'Right-Putamen',\n",
    "#        'Right-Hippocampus', 'Right-Amygdala',\n",
    "#        'Right-Accumbens-area', 'Right-vessel',\n",
    "#        'Optic-Chiasm', 'CC_Posterior',\n",
    "#        'CC_Central', 'CC_Mid_Anterior',\n",
    "#        'WM-hypointensities', 'non-WM-hypointensities']\n",
    "\n",
    "interest_col = [ # Step 2\n",
    "     'CDR',\n",
    "       'VentricleChoroidVol',\n",
    "       'lhCortex', 'rhCortex', 'Cortex',\n",
    "       'SubCortGray', 'TotalGray', \n",
    "       'BrainSegVol-to-eTIV',\n",
    "       'lhSurfaceHoles', 'SurfaceHoles',\n",
    "       'Left-Lateral-Ventricle', 'Right-Lateral-Ventricle',\n",
    "       'Left-Inf-Lat-Vent', 'Right-Inf-Lat-Vent',\n",
    "       'Left-Putamen', 'Right-Putamen', '3rd-Ventricle',\n",
    "       'Left-Hippocampus', 'Left-Amygdala', 'CSF',\n",
    "       'Right-Hippocampus', 'Right-Amygdala',\n",
    "       'Left-Accumbens-area', 'Right-Accumbens-area',\n",
    "       'Left-choroid-plexus', 'CC_Mid_Anterior',\n",
    "       'WM-hypointensities', 'non-WM-hypointensities']\n",
    "\n",
    "roi_data = raw_data[interest_col]\n",
    "roi_data = roi_data.assign(CDR=lambda s: s['CDR'].astype('float'))\n",
    "roi_data = roi_data.mask(roi_data['CDR'] < 0).dropna()\n",
    "roi_data = roi_data[roi_data != 0]\n",
    "\n",
    "roi_data['CDR'] = roi_data['CDR'].replace(3.0, 2.0)\n",
    "roi_data['CDR'] = roi_data['CDR'].replace(1.0, 2.0)\n",
    "roi_data['CDR'] = roi_data['CDR'].replace(0.5, 1.0)\n",
    "\n",
    "features_all = roi_data.mask(roi_data.eq(\"None\")).dropna().astype('float')\n",
    "features_all_x = features_all[list(filter(lambda x: x != \"CDR\", list(features_all.columns)))].values\n",
    "features_all_y = features_all['CDR'].values\n",
    "\n",
    "n_fold = 10\n",
    "# kf = KFold(n_splits=n_fold, shuffle=True)\n",
    "rkf = RepeatedKFold(n_splits=n_fold, n_repeats=n_fold)\n",
    "total_acc = 0.\n",
    "for idx, (train_idx, test_idx) in enumerate(rkf.split(features_all_x)):\n",
    "    X_train, X_test = features_all_x[train_idx], features_all_x[test_idx]\n",
    "    y_train, y_test = features_all_y[train_idx], features_all_y[test_idx]\n",
    "    \n",
    "    rfr = RandomForestRegressor(n_estimators=100).fit(X_train, y_train)\n",
    "    result = [find_nearest([0, 1, 2], value) for value in rfr.predict(X_test)]\n",
    "    acc = accuracy_score(y_test, result)\n",
    "    total_acc += acc\n",
    "    print(\"Acc %d: %f\" % (idx, acc))\n",
    "    \n",
    "total_acc /= n_fold\n",
    "print(\"Total Acc: %f\" % total_acc)"
   ]
  },
  {
   "cell_type": "markdown",
   "metadata": {
    "colab_type": "text",
    "id": "CnhBIOpyCk9n"
   },
   "source": [
    "## Logistic Regression"
   ]
  },
  {
   "cell_type": "code",
   "execution_count": 0,
   "metadata": {
    "colab": {
     "base_uri": "https://localhost:8080/",
     "height": 564
    },
    "colab_type": "code",
    "executionInfo": {
     "elapsed": 1061,
     "status": "ok",
     "timestamp": 1586183287501,
     "user": {
      "displayName": "정혜윰학부생",
      "photoUrl": "",
      "userId": "17524910910845976909"
     },
     "user_tz": -540
    },
    "id": "CfoxavnhHS-L",
    "outputId": "30bb8ac9-cd36-4703-e8c6-5c5c642db4ab"
   },
   "outputs": [
    {
     "name": "stdout",
     "output_type": "stream",
     "text": [
      "0.7862068965517242\n"
     ]
    },
    {
     "name": "stderr",
     "output_type": "stream",
     "text": [
      "/usr/local/lib/python3.6/dist-packages/pandas/core/ops/array_ops.py:253: FutureWarning: elementwise comparison failed; returning scalar instead, but in the future will perform elementwise comparison\n",
      "  res_values = method(rvalues)\n",
      "/usr/local/lib/python3.6/dist-packages/sklearn/linear_model/_logistic.py:940: ConvergenceWarning: lbfgs failed to converge (status=1):\n",
      "STOP: TOTAL NO. of ITERATIONS REACHED LIMIT.\n",
      "\n",
      "Increase the number of iterations (max_iter) or scale the data as shown in:\n",
      "    https://scikit-learn.org/stable/modules/preprocessing.html\n",
      "Please also refer to the documentation for alternative solver options:\n",
      "    https://scikit-learn.org/stable/modules/linear_model.html#logistic-regression\n",
      "  extra_warning_msg=_LOGISTIC_SOLVER_CONVERGENCE_MSG)\n"
     ]
    },
    {
     "data": {
      "text/plain": [
       "array([[ 8.55474849e-06,  1.01565646e-06,  2.42268497e-07,\n",
       "        -9.39692261e-08,  6.34779248e-06, -7.38546658e-06,\n",
       "        -1.03767410e-06, -1.81334825e-06, -1.85539659e-06,\n",
       "        -3.66874484e-06, -3.34484719e-06, -1.48713961e-05,\n",
       "         9.66395985e-07,  1.06036522e-06, -7.18431850e-06,\n",
       "        -7.51026148e-07,  8.00227415e-10,  1.12886914e-09,\n",
       "         2.37103846e-07,  1.47579761e-07,  3.84683607e-07,\n",
       "         4.40133192e-06, -4.42310140e-05,  7.68184178e-06,\n",
       "         8.08098076e-06, -1.38965350e-05,  5.43834278e-07,\n",
       "         1.30747718e-06,  2.55337241e-06,  1.66494126e-06,\n",
       "         1.38492120e-06,  3.25325212e-06,  9.44049690e-07,\n",
       "        -6.70662943e-06, -3.72580281e-06,  2.76466338e-06,\n",
       "        -1.32368241e-07,  5.48929704e-07,  7.56148519e-08,\n",
       "        -3.27829664e-07,  2.10069078e-05,  1.51064631e-05,\n",
       "         1.31097351e-05, -6.07489028e-06,  3.60586646e-07,\n",
       "         1.30566588e-06,  3.48421054e-06,  2.48046284e-06,\n",
       "        -6.59512142e-06, -3.32271982e-06,  6.26696316e-08,\n",
       "         4.16761926e-07,  1.05892117e-07, -9.28969713e-07,\n",
       "         6.63414753e-08,  9.44470253e-07,  6.72849327e-07,\n",
       "         8.20955997e-07,  2.55235086e-07,  3.84682781e-07]])"
      ]
     },
     "execution_count": 23,
     "metadata": {
      "tags": []
     },
     "output_type": "execute_result"
    }
   ],
   "source": [
    "import numpy as np\n",
    "from sklearn.model_selection import train_test_split\n",
    "from sklearn.linear_model import LogisticRegression\n",
    "from sklearn.metrics import accuracy_score\n",
    "\n",
    "# Data processing\n",
    "# interest_col = [\"Cortex\", \"TotalGray\", \"CDR\", \"Left-Hippocampus\", \"Left-Amygdala\", \"Right-Hippocampus\", \"Right-Amygdala\"]\n",
    "interest_col = [\n",
    "     'CDR', 'BrainSeg',\n",
    "       'BrainSegNotVent', 'BrainSegNotVentSurf', 'VentricleChoroidVol',\n",
    "       'lhCortex', 'rhCortex', 'Cortex', 'lhCerebralWhiteMatter',\n",
    "       'rhCerebralWhiteMatter', 'CerebralWhiteMatter', 'SubCortGray',\n",
    "       'TotalGray', 'SupraTentorial', 'SupraTentorialNotVent',\n",
    "       'SupraTentorialNotVentVox', 'Mask', 'BrainSegVol-to-eTIV',\n",
    "       'MaskVol-to-eTIV', 'lhSurfaceHoles', 'rhSurfaceHoles', 'SurfaceHoles',\n",
    "       'EstimatedTotalIntraCranialVol', 'Left-Lateral-Ventricle',\n",
    "       'Left-Inf-Lat-Vent', 'Left-Cerebellum-White-Matter',\n",
    "       'Left-Cerebellum-Cortex', 'Left-Thalamus-Proper', 'Left-Caudate',\n",
    "       'Left-Putamen', 'Left-Pallidum', '3rd-Ventricle', '4th-Ventricle',\n",
    "       'Brain-Stem', 'Left-Hippocampus', 'Left-Amygdala', 'CSF',\n",
    "       'Left-Accumbens-area', 'Left-VentralDC', 'Left-vessel',\n",
    "       'Left-choroid-plexus', 'Right-Lateral-Ventricle', 'Right-Inf-Lat-Vent',\n",
    "       'Right-Cerebellum-White-Matter', 'Right-Cerebellum-Cortex',\n",
    "       'Right-Thalamus-Proper', 'Right-Caudate', 'Right-Putamen',\n",
    "       'Right-Pallidum', 'Right-Hippocampus', 'Right-Amygdala',\n",
    "       'Right-Accumbens-area', 'Right-VentralDC', 'Right-vessel',\n",
    "       'Right-choroid-plexus', 'Optic-Chiasm', 'CC_Posterior',\n",
    "       'CC_Mid_Posterior', 'CC_Central', 'CC_Mid_Anterior', 'CC_Anterior']\n",
    "\n",
    "roi_data = raw_data[interest_col]\n",
    "roi_data = roi_data.assign(CDR=lambda s: s['CDR'].astype('float'))\n",
    "roi_data = roi_data.mask(roi_data['CDR'] < 0).dropna()\n",
    "roi_data = roi_data[roi_data != 0]\n",
    "\n",
    "roi_data['CDR'] = roi_data['CDR'].replace(3.0, 2.0)\n",
    "roi_data['CDR'] = roi_data['CDR'].replace(1.0, 2.0)\n",
    "roi_data['CDR'] = roi_data['CDR'].replace(0.5, 1.0)\n",
    "\n",
    "features_all = roi_data.mask(roi_data.eq(\"None\")).dropna().astype('float')\n",
    "features_all_x = features_all[list(filter(lambda x: x != \"CDR\", list(features_all.columns)))].values\n",
    "features_all_y = features_all['CDR'].values\n",
    "\n",
    "from sklearn.model_selection import train_test_split\n",
    "\n",
    "all_train_x, all_test_x, all_train_y, all_test_y = train_test_split(features_all_x, features_all_y, test_size=0.3)\n",
    "\n",
    "clf = LogisticRegression(solver='lbfgs', multi_class='multinomial').fit(all_train_x, all_train_y)\n",
    "result = clf.predict(all_test_x)\n",
    "print(accuracy_score(all_test_y, result))\n",
    "\n",
    "clf.coef_"
   ]
  }
 ],
 "metadata": {
  "colab": {
   "name": "various_model.ipynb",
   "provenance": [
    {
     "file_id": "1yYgwBvZO3K8IW7RgdsqR2JpxCmbxomiP",
     "timestamp": 1585057607295
    }
   ]
  },
  "kernelspec": {
   "display_name": "Python 3",
   "language": "python",
   "name": "python3"
  },
  "language_info": {
   "codemirror_mode": {
    "name": "ipython",
    "version": 3
   },
   "file_extension": ".py",
   "mimetype": "text/x-python",
   "name": "python",
   "nbconvert_exporter": "python",
   "pygments_lexer": "ipython3",
   "version": "3.6.8"
  }
 },
 "nbformat": 4,
 "nbformat_minor": 1
}
