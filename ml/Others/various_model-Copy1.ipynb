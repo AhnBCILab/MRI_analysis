{
 "cells": [
  {
   "cell_type": "code",
   "execution_count": 4,
   "metadata": {
    "colab": {},
    "colab_type": "code",
    "id": "oOtGUbjaHS8j"
   },
   "outputs": [],
   "source": [
    "%matplotlib inline\n",
    "import numpy as np\n",
    "import matplotlib.pyplot as plt\n",
    "import pandas as pd"
   ]
  },
  {
   "cell_type": "code",
   "execution_count": 5,
   "metadata": {
    "colab": {},
    "colab_type": "code",
    "id": "XVFX_XfoHS8o",
    "scrolled": true
   },
   "outputs": [],
   "source": [
    "raw_data = pd.read_csv('../output.csv')"
   ]
  },
  {
   "cell_type": "code",
   "execution_count": 6,
   "metadata": {
    "colab": {},
    "colab_type": "code",
    "id": "dkSfOC2nHS8s",
    "scrolled": false
   },
   "outputs": [],
   "source": [
    "# level 0\n",
    "level_0 = ['Group','BrainSeg', 'BrainSegNotVent', 'BrainSegNotVentSurf', \n",
    "\t\t\t\t'VentricleChoroidVol',\n",
    "\t\t\t\t'lhCortex', 'rhCortex', 'Cortex', \n",
    "\t\t\t\t'lhCerebralWhiteMatter','rhCerebralWhiteMatter', 'CerebralWhiteMatter', \n",
    "\t\t\t\t'SubCortGray', 'TotalGray', \n",
    "\t\t\t\t'SupraTentorial', 'SupraTentorialNotVent', 'SupraTentorialNotVentVox',\n",
    "\t\t\t\t'Mask',\t'BrainSegVol-to-eTIV', 'MaskVol-to-eTIV',\n",
    "\t\t\t\t'lhSurfaceHoles', 'rhSurfaceHoles', 'SurfaceHoles',\n",
    "\t\t\t\t'EstimatedTotalIntraCranialVol', \n",
    "\t\t\t\t'Left-Lateral-Ventricle', 'Right-Lateral-Ventricle',\n",
    "\t\t        'Left-Inf-Lat-Vent', 'Right-Inf-Lat-Vent',\n",
    "\t\t\t\t'Left-Cerebellum-White-Matter', 'Right-Cerebellum-White-Matter',\n",
    "\t\t        'Left-Cerebellum-Cortex', 'Right-Cerebellum-Cortex',\n",
    "\t\t\t\t'Left-Thalamus-Proper', 'Right-Thalamus-Proper',\n",
    "\t\t\t\t'Left-Caudate', 'Right-Caudate',\n",
    "\t\t        'Left-Putamen', 'Right-Putamen',\n",
    "\t\t\t\t'Left-Pallidum', 'Right-Pallidum',\n",
    "\t\t\t\t'3rd-Ventricle', '4th-Ventricle', '5th-Ventricle',\n",
    "\t\t\t\t'Brain-Stem',\n",
    "\t\t\t\t'Left-Hippocampus', 'Right-Hippocampus',\n",
    "\t\t\t\t'Left-Amygdala', 'Right-Amygdala',\n",
    "\t\t\t\t'CSF',\n",
    "\t\t\t\t'Left-Accumbens-area', 'Right-Accumbens-area',\n",
    "\t\t\t\t'Left-VentralDC', 'Right-VentralDC',\n",
    "\t\t\t\t'Left-vessel', 'Right-vessel',\n",
    "\t\t\t\t'Left-choroid-plexus', 'Right-choroid-plexus',\n",
    "\t\t\t\t'WM-hypointensities', 'non-WM-hypointensities',\n",
    "\t\t\t\t'Optic-Chiasm',\n",
    "\t\t\t\t'CC_Posterior', 'CC_Mid_Posterior', \n",
    "\t\t\t\t'CC_Central',\n",
    "\t\t\t\t'CC_Mid_Anterior', 'CC_Anterior']\n",
    "# level 1\n",
    "level_1 = ['Group', 'BrainSegNotVent', 'BrainSegNotVentSurf',\n",
    "\t\t\t\t'VentricleChoroidVol',\n",
    "\t\t        'lhCortex', 'rhCortex', 'Cortex',\n",
    "\t\t\t\t'lhCerebralWhiteMatter', 'rhCerebralWhiteMatter', 'CerebralWhiteMatter',\n",
    "\t\t\t\t'SubCortGray', 'TotalGray', \n",
    "\t\t\t\t'BrainSegVol-to-eTIV',\n",
    "\t\t        'lhSurfaceHoles',\n",
    "\t\t        'EstimatedTotalIntraCranialVol', \n",
    "\t\t\t\t'Left-Lateral-Ventricle', 'Right-Lateral-Ventricle',\n",
    "\t\t        'Left-Inf-Lat-Vent', 'Right-Inf-Lat-Vent',\n",
    "\t\t        'Left-Putamen', 'Right-Putamen',\n",
    "\t\t\t\t'3rd-Ventricle',\n",
    "\t\t\t\t'Left-Hippocampus', 'Right-Hippocampus',\n",
    "\t\t\t\t'Left-Amygdala', 'Right-Amygdala',\n",
    "\t\t        'Left-Accumbens-area', 'Right-Accumbens-area',\n",
    "\t\t        'WM-hypointensities', \n",
    "\t\t        'Optic-Chiasm']\n",
    "# level 2\n",
    "level_2 = ['Group', 'VentricleChoroidVol',\n",
    "\t\t\t\t'lhCortex', 'rhCortex', 'Cortex',\n",
    "\t\t\t\t'SubCortGray', 'TotalGray',\n",
    "\t\t\t\t'BrainSegVol-to-eTIV',\n",
    "\t\t\t\t'lhSurfaceHoles', \n",
    "\t\t\t\t'Left-Lateral-Ventricle', 'Right-Lateral-Ventricle',\n",
    "\t\t\t\t'Left-Inf-Lat-Vent', 'Right-Inf-Lat-Vent',\n",
    "\t\t\t\t'Left-Putamen', 'Right-Putamen',\n",
    "\t\t\t\t'3rd-Ventricle',\n",
    "\t\t\t\t'Left-Hippocampus', 'Right-Hippocampus',\n",
    "\t\t\t\t'Left-Amygdala', 'Right-Amygdala',\n",
    "\t\t\t\t'Left-Accumbens-area', 'Right-Accumbens-area',\n",
    "\t\t\t\t'WM-hypointensities']\n"
   ]
  },
  {
   "cell_type": "code",
   "execution_count": 14,
   "metadata": {},
   "outputs": [
    {
     "name": "stderr",
     "output_type": "stream",
     "text": [
      "<ipython-input-14-afcb59a18861>:4: SettingWithCopyWarning: \n",
      "A value is trying to be set on a copy of a slice from a DataFrame.\n",
      "Try using .loc[row_indexer,col_indexer] = value instead\n",
      "\n",
      "See the caveats in the documentation: https://pandas.pydata.org/pandas-docs/stable/user_guide/indexing.html#returning-a-view-versus-a-copy\n",
      "  roi_data['Group'] = roi_data['Group'].replace('CN', 0)\n",
      "<ipython-input-14-afcb59a18861>:5: SettingWithCopyWarning: \n",
      "A value is trying to be set on a copy of a slice from a DataFrame.\n",
      "Try using .loc[row_indexer,col_indexer] = value instead\n",
      "\n",
      "See the caveats in the documentation: https://pandas.pydata.org/pandas-docs/stable/user_guide/indexing.html#returning-a-view-versus-a-copy\n",
      "  roi_data['Group'] = roi_data['Group'].replace('MCI', 1)\n",
      "<ipython-input-14-afcb59a18861>:6: SettingWithCopyWarning: \n",
      "A value is trying to be set on a copy of a slice from a DataFrame.\n",
      "Try using .loc[row_indexer,col_indexer] = value instead\n",
      "\n",
      "See the caveats in the documentation: https://pandas.pydata.org/pandas-docs/stable/user_guide/indexing.html#returning-a-view-versus-a-copy\n",
      "  roi_data['Group'] = roi_data['Group'].replace('AD', 2)\n",
      "/home/harine/myvenv/lib/python3.8/site-packages/pandas/core/computation/expressions.py:68: FutureWarning: elementwise comparison failed; returning scalar instead, but in the future will perform elementwise comparison\n",
      "  return op(a, b)\n",
      "/home/harine/myvenv/lib/python3.8/site-packages/pandas/core/computation/expressions.py:68: FutureWarning: elementwise comparison failed; returning scalar instead, but in the future will perform elementwise comparison\n",
      "  return op(a, b)\n"
     ]
    }
   ],
   "source": [
    "roi_data = raw_data[level_0]\n",
    "\n",
    "\n",
    "roi_data['Group'] = roi_data['Group'].replace('CN', 0)\n",
    "roi_data['Group'] = roi_data['Group'].replace('MCI', 1)\n",
    "roi_data['Group'] = roi_data['Group'].replace('AD', 2)\n",
    "\n",
    "roi_data = roi_data.assign(Group=lambda s: s['Group'].astype('int'))\n",
    "roi_data = roi_data.mask(roi_data['Group'] < 0).dropna()\n",
    "\n",
    "\n",
    "features = roi_data.mask(roi_data.eq(\"None\")).dropna().astype('float')\n",
    "features_x = features[list(filter(lambda x: x != \"Group\", list(features.columns)))].values\n",
    "features_y = features['Group'].values"
   ]
  },
  {
   "cell_type": "markdown",
   "metadata": {
    "colab_type": "text",
    "id": "dRQoC_mydY5W"
   },
   "source": [
    "## Classifier"
   ]
  },
  {
   "cell_type": "code",
   "execution_count": 15,
   "metadata": {
    "colab": {
     "base_uri": "https://localhost:8080/",
     "height": 1000
    },
    "colab_type": "code",
    "executionInfo": {
     "elapsed": 112724,
     "status": "ok",
     "timestamp": 1589947883688,
     "user": {
      "displayName": "정혜윰학부생",
      "photoUrl": "",
      "userId": "17524910910845976909"
     },
     "user_tz": -540
    },
    "id": "Q53mu-llZiFV",
    "outputId": "060ea1dd-e03b-44b8-9ea4-984acd7af850"
   },
   "outputs": [
    {
     "name": "stdout",
     "output_type": "stream",
     "text": [
      "0.888889\n",
      "0.902222\n",
      "0.862222\n",
      "0.893333\n",
      "0.924444\n",
      "0.897778\n",
      "0.906667\n",
      "0.857778\n",
      "0.880000\n",
      "0.920000\n",
      "0.915556\n",
      "0.924444\n",
      "0.884444\n",
      "0.880000\n",
      "0.915556\n",
      "0.902222\n",
      "0.928889\n",
      "0.920000\n",
      "0.911111\n",
      "0.937778\n",
      "0.920000\n",
      "0.906667\n",
      "0.902222\n",
      "0.897778\n",
      "0.902222\n",
      "0.906667\n",
      "0.871111\n",
      "0.928889\n",
      "0.920000\n",
      "0.902222\n",
      "0.893333\n",
      "0.960000\n",
      "0.915556\n",
      "0.893333\n",
      "0.933333\n",
      "0.880000\n",
      "0.880000\n",
      "0.902222\n",
      "0.875556\n",
      "0.893333\n",
      "0.888889\n",
      "0.915556\n",
      "0.911111\n",
      "0.906667\n",
      "0.902222\n",
      "0.915556\n",
      "0.911111\n",
      "0.897778\n",
      "0.857778\n",
      "0.888889\n",
      "0.928889\n",
      "0.848889\n",
      "0.924444\n",
      "0.911111\n",
      "0.880000\n",
      "0.928889\n",
      "0.857778\n",
      "0.911111\n",
      "0.946667\n",
      "0.888889\n",
      "0.960000\n",
      "0.893333\n",
      "0.897778\n",
      "0.906667\n",
      "0.902222\n",
      "0.862222\n",
      "0.902222\n",
      "0.915556\n",
      "0.911111\n",
      "0.911111\n",
      "0.911111\n",
      "0.897778\n",
      "0.920000\n",
      "0.880000\n",
      "0.857778\n",
      "0.897778\n",
      "0.893333\n",
      "0.911111\n",
      "0.897778\n",
      "0.911111\n",
      "0.866667\n",
      "0.831111\n",
      "0.928889\n",
      "0.862222\n",
      "0.942222\n",
      "0.893333\n",
      "0.906667\n",
      "0.911111\n",
      "0.902222\n",
      "0.920000\n",
      "0.920000\n",
      "0.946667\n",
      "0.893333\n",
      "0.920000\n",
      "0.924444\n",
      "0.911111\n",
      "0.866667\n",
      "0.888889\n",
      "0.880000\n",
      "0.893333\n",
      "Total Acc: 0.902089\n"
     ]
    }
   ],
   "source": [
    "from sklearn.ensemble import RandomForestClassifier\n",
    "from sklearn.model_selection import RepeatedKFold\n",
    "from sklearn.metrics import accuracy_score\n",
    "from sklearn import preprocessing\n",
    "\n",
    "n_fold = 10\n",
    "rkf = RepeatedKFold(n_splits=n_fold, n_repeats=n_fold, random_state=777)\n",
    "total_acc = 0.\n",
    "rfr = []\n",
    "\n",
    "for idx, (train_idx, test_idx) in enumerate(rkf.split(features_x)):\n",
    "    train_x, test_x = features_x[train_idx], features_x[test_idx]\n",
    "    train_y, test_y = features_y[train_idx], features_y[test_idx]\n",
    "    \n",
    "    rfr.append(RandomForestClassifier(n_estimators=5000, random_state=777).fit(train_x, train_y))\n",
    "    result_rf = rfr[idx].predict(test_x)\n",
    "    acc_rf = accuracy_score(test_y, result_rf)\n",
    "    \n",
    "    total_acc += acc_rf\n",
    "    print(\"%f\" % (acc_rf))\n",
    "    \n",
    "total_acc /= (n_fold*n_fold)\n",
    "print(\"Total Acc: %f\" % total_acc)"
   ]
  },
  {
   "cell_type": "code",
   "execution_count": 98,
   "metadata": {
    "colab": {
     "base_uri": "https://localhost:8080/",
     "height": 606
    },
    "colab_type": "code",
    "executionInfo": {
     "elapsed": 2803,
     "status": "ok",
     "timestamp": 1589949363550,
     "user": {
      "displayName": "정혜윰학부생",
      "photoUrl": "",
      "userId": "17524910910845976909"
     },
     "user_tz": -540
    },
    "id": "qTzpvT_CEzvg",
    "outputId": "c32f20b3-9bf5-4727-af86-afbd79d47050"
   },
   "outputs": [
    {
     "data": {
      "image/png": "[encoded data removed]",
      "text/plain": [
       "<Figure size 576x576 with 1 Axes>"
      ]
     },
     "metadata": {
      "needs_background": "light"
     },
     "output_type": "display_data"
    }
   ],
   "source": [
    "n_feature = 22\n",
    "index = np.arange(n_feature)\n",
    "\n",
    "feature_importances = np.array([x.feature_importances_ for x in rfr]).mean(axis=0)\n",
    "_label = level_2[1:]\n",
    "f = {l:d for l, d in zip(_label, feature_importances)}\n",
    "f = np.array(sorted(f.items(), key=(lambda x:x[1])))\n",
    "_x = f[:, 1].astype('float')\n",
    "_y = f[:, 0]\n",
    "\n",
    "plt.figure(figsize=(8, 8))\n",
    "plt.barh(index, _x, align='center')\n",
    "plt.yticks(index,_y)\n",
    "plt.ylim(-1, n_feature)\n",
    "plt.xlim(0, 0.08)\n",
    "plt.xlabel('feature importance')\n",
    "plt.ylabel('feature')\n",
    "\n",
    "ax = plt.gca()\n",
    "ax.xaxis.grid(True, color='lightgrey', linestyle='--')\n",
    "ax.set_axisbelow(True)\n",
    "plt.plot([1/n_feature, 1/n_feature], [-10, 100], color='red')\n",
    "\n",
    "plt.savefig(str(n_feature) + '.png', dpi=300, bbox_inches='tight')\n",
    "plt.show()"
   ]
  }
 ],
 "metadata": {
  "colab": {
   "name": "various_model.ipynb",
   "provenance": [
    {
     "file_id": "1yYgwBvZO3K8IW7RgdsqR2JpxCmbxomiP",
     "timestamp": 1585057607295
    }
   ]
  },
  "kernelspec": {
   "display_name": "Python 3",
   "language": "python",
   "name": "python3"
  },
  "language_info": {
   "codemirror_mode": {
    "name": "ipython",
    "version": 3
   },
   "file_extension": ".py",
   "mimetype": "text/x-python",
   "name": "python",
   "nbconvert_exporter": "python",
   "pygments_lexer": "ipython3",
   "version": "3.8.5"
  }
 },
 "nbformat": 4,
 "nbformat_minor": 1
}
