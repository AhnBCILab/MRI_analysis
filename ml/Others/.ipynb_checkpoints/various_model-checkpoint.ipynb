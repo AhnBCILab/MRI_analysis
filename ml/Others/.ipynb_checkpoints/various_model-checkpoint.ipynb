{
 "cells": [
  {
   "cell_type": "code",
   "execution_count": null,
   "metadata": {
    "colab": {},
    "colab_type": "code",
    "id": "oOtGUbjaHS8j"
   },
   "outputs": [],
   "source": [
    "%matplotlib inline\n",
    "import numpy as np\n",
    "import matplotlib.pyplot as plt\n",
    "import pandas as pd"
   ]
  },
  {
   "cell_type": "code",
   "execution_count": null,
   "metadata": {
    "colab": {
     "base_uri": "https://localhost:8080/",
     "height": 71
    },
    "colab_type": "code",
    "executionInfo": {
     "elapsed": 1098,
     "status": "ok",
     "timestamp": 1586278232731,
     "user": {
      "displayName": "정혜윰학부생",
      "photoUrl": "",
      "userId": "17524910910845976909"
     },
     "user_tz": -540
    },
    "id": "XVFX_XfoHS8o",
    "outputId": "1e8a1ced-176f-4c25-f94b-3ae21a2ebaea",
    "scrolled": true
   },
   "outputs": [],
   "source": [
    "raw_data = pd.read_csv('../output.csv')\n",
    "raw_data = raw_data[raw_data[\"CDR\"] != \"None\"]\n",
    "for column in raw_data.columns[32:]:\n",
    "    raw_data = raw_data[raw_data[column] != \"None\"]"
   ]
  },
  {
   "cell_type": "code",
   "execution_count": null,
   "metadata": {
    "colab": {
     "base_uri": "https://localhost:8080/",
     "height": 612
    },
    "colab_type": "code",
    "executionInfo": {
     "elapsed": 979,
     "status": "ok",
     "timestamp": 1586278234269,
     "user": {
      "displayName": "정혜윰학부생",
      "photoUrl": "",
      "userId": "17524910910845976909"
     },
     "user_tz": -540
    },
    "id": "dkSfOC2nHS8s",
    "outputId": "11a1f16a-019b-43d5-e411-f0819bd3d39f"
   },
   "outputs": [],
   "source": [
    "# level 0\n",
    "level_0 = ['CDR', 'BrainSeg', 'BrainSegNotVent', 'BrainSegNotVentSurf', \n",
    "\t\t\t\t'VentricleChoroidVol',\n",
    "\t\t\t\t'lhCortex', 'rhCortex', 'Cortex', \n",
    "\t\t\t\t'lhCerebralWhiteMatter','rhCerebralWhiteMatter', 'CerebralWhiteMatter', \n",
    "\t\t\t\t'SubCortGray', 'TotalGray', \n",
    "\t\t\t\t'SupraTentorial', 'SupraTentorialNotVent', 'SupraTentorialNotVentVox',\n",
    "\t\t\t\t'Mask',\t'BrainSegVol-to-eTIV', 'MaskVol-to-eTIV',\n",
    "\t\t\t\t'lhSurfaceHoles', 'rhSurfaceHoles', 'SurfaceHoles',\n",
    "\t\t\t\t'EstimatedTotalIntraCranialVol', \n",
    "\t\t\t\t'Left-Lateral-Ventricle', 'Right-Lateral-Ventricle',\n",
    "\t\t        'Left-Inf-Lat-Vent', 'Right-Inf-Lat-Vent',\n",
    "\t\t\t\t'Left-Cerebellum-White-Matter', 'Right-Cerebellum-White-Matter',\n",
    "\t\t        'Left-Cerebellum-Cortex', 'Right-Cerebellum-Cortex',\n",
    "\t\t\t\t'Left-Thalamus-Proper', 'Right-Thalamus-Proper',\n",
    "\t\t\t\t'Left-Caudate', 'Right-Caudate',\n",
    "\t\t        'Left-Putamen', 'Right-Putamen',\n",
    "\t\t\t\t'Left-Pallidum', 'Right-Pallidum',\n",
    "\t\t\t\t'3rd-Ventricle', '4th-Ventricle', '5th-Ventricle',\n",
    "\t\t\t\t'Brain-Stem',\n",
    "\t\t\t\t'Left-Hippocampus', 'Right-Hippocampus',\n",
    "\t\t\t\t'Left-Amygdala', 'Right-Amygdala',\n",
    "\t\t\t\t'CSF',\n",
    "\t\t\t\t'Left-Accumbens-area', 'Right-Accumbens-area',\n",
    "\t\t\t\t'Left-VentralDC', 'Right-VentralDC',\n",
    "\t\t\t\t'Left-vessel', 'Right-vessel',\n",
    "\t\t\t\t'Left-choroid-plexus', 'Right-choroid-plexus',\n",
    "\t\t\t\t'WM-hypointensities', 'non-WM-hypointensities',\n",
    "\t\t\t\t'Optic-Chiasm',\n",
    "\t\t\t\t'CC_Posterior', 'CC_Mid_Posterior', \n",
    "\t\t\t\t'CC_Central',\n",
    "\t\t\t\t'CC_Mid_Anterior', 'CC_Anterior']\n",
    "# level 1\n",
    "level_1 = ['CDR', 'BrainSegNotVent', 'BrainSegNotVentSurf',\n",
    "\t\t\t\t'VentricleChoroidVol',\n",
    "\t\t        'lhCortex', 'rhCortex', 'Cortex',\n",
    "\t\t\t\t'lhCerebralWhiteMatter', 'rhCerebralWhiteMatter', 'CerebralWhiteMatter',\n",
    "\t\t\t\t'SubCortGray', 'TotalGray', \n",
    "\t\t\t\t'SupraTentorialNotVent', 'SupraTentorialNotVentVox', \n",
    "\t\t\t\t'Mask', 'BrainSegVol-to-eTIV',\n",
    "\t\t        'lhSurfaceHoles', 'SurfaceHoles',\n",
    "\t\t        'EstimatedTotalIntraCranialVol', \n",
    "\t\t\t\t'Left-Lateral-Ventricle', 'Right-Lateral-Ventricle',\n",
    "\t\t        'Left-Inf-Lat-Vent', 'Right-Inf-Lat-Vent',\n",
    "\t\t        'Left-Cerebellum-Cortex', 'Right-Cerebellum-Cortex',\n",
    "\t\t\t\t'Left-Caudate', 'Right-Caudate',\n",
    "\t\t        'Left-Putamen', 'Right-Putamen',\n",
    "\t\t\t\t'3rd-Ventricle',\n",
    "\t\t        'Brain-Stem',\n",
    "\t\t\t\t'Left-Hippocampus', 'Right-Hippocampus',\n",
    "\t\t\t\t'Left-Amygdala', 'Right-Amygdala',\n",
    "\t\t\t\t'CSF',\n",
    "\t\t        'Left-Accumbens-area', 'Right-Accumbens-area',\n",
    "\t\t\t\t'Right-vessel',\n",
    "\t\t        'Left-choroid-plexus', \n",
    "\t\t        'WM-hypointensities', 'non-WM-hypointensities',\n",
    "\t\t        'Optic-Chiasm', \n",
    "\t\t\t\t'CC_Posterior',\n",
    "\t\t        'CC_Central', \n",
    "\t\t\t\t'CC_Mid_Anterior']\n",
    "# level 2\n",
    "level_2 = ['CDR', 'VentricleChoroidVol',\n",
    "\t\t\t\t'lhCortex', 'rhCortex', 'Cortex',\n",
    "\t\t\t\t'SubCortGray', 'TotalGray',\n",
    "\t\t\t\t'BrainSegVol-to-eTIV',\n",
    "\t\t\t\t'lhSurfaceHoles', 'SurfaceHoles',\n",
    "\t\t\t\t'Left-Lateral-Ventricle', 'Right-Lateral-Ventricle',\n",
    "\t\t\t\t'Left-Inf-Lat-Vent', 'Right-Inf-Lat-Vent',\n",
    "\t\t\t\t'Left-Putamen', 'Right-Putamen',\n",
    "\t\t\t\t'3rd-Ventricle',\n",
    "\t\t\t\t'Left-Hippocampus', 'Right-Hippocampus',\n",
    "\t\t\t\t'Left-Amygdala', 'Right-Amygdala',\n",
    "\t\t\t\t'CSF',\n",
    "\t\t\t\t'Left-Accumbens-area', 'Right-Accumbens-area',\n",
    "\t\t\t\t'Left-choroid-plexus',\n",
    "\t\t\t\t'WM-hypointensities', 'non-WM-hypointensities',\n",
    "\t\t\t\t'CC_Mid_Anterior']\n",
    "\n",
    "roi_data = raw_data[level_2]\n",
    "# roi_data.info()"
   ]
  },
  {
   "cell_type": "code",
   "execution_count": null,
   "metadata": {
    "colab": {},
    "colab_type": "code",
    "id": "JmWFLIpnHS8v"
   },
   "outputs": [],
   "source": [
    "roi_data = roi_data.assign(CDR=lambda s: s['CDR'].astype('float'))\n",
    "roi_data = roi_data.mask(roi_data['CDR'] < 0).dropna()\n",
    "roi_data = roi_data[roi_data != 0]"
   ]
  },
  {
   "cell_type": "code",
   "execution_count": null,
   "metadata": {},
   "outputs": [],
   "source": [
    "roi_data['CDR'] = roi_data['CDR'].replace(3.0, 2.0)\n",
    "roi_data['CDR'] = roi_data['CDR'].replace(1.0, 2.0)\n",
    "roi_data['CDR'] = roi_data['CDR'].replace(0.5, 1.0)"
   ]
  },
  {
   "cell_type": "code",
   "execution_count": null,
   "metadata": {
    "colab": {
     "base_uri": "https://localhost:8080/",
     "height": 71
    },
    "colab_type": "code",
    "executionInfo": {
     "elapsed": 547,
     "status": "ok",
     "timestamp": 1586278252935,
     "user": {
      "displayName": "정혜윰학부생",
      "photoUrl": "",
      "userId": "17524910910845976909"
     },
     "user_tz": -540
    },
    "id": "0PL5ct0SHS8z",
    "outputId": "eafdba7c-2c77-403b-9b66-f49916d0f0a1"
   },
   "outputs": [],
   "source": [
    "features = roi_data.mask(roi_data.eq(\"None\")).dropna().astype('float')\n",
    "features_x = features[list(filter(lambda x: x != \"CDR\", list(features.columns)))].values\n",
    "features_y = features['CDR'].values"
   ]
  },
  {
   "cell_type": "markdown",
   "metadata": {
    "colab_type": "text",
    "id": "buwl3eqMHS9m"
   },
   "source": [
    "# SVM with 10*10 Fold Validation\n",
    "## Non-linear SVM"
   ]
  },
  {
   "cell_type": "code",
   "execution_count": null,
   "metadata": {},
   "outputs": [],
   "source": [
    "from sklearn.svm import SVC\n",
    "from sklearn.model_selection import RepeatedKFold\n",
    "from sklearn.metrics import accuracy_score\n",
    "from sklearn import preprocessing\n",
    "\n",
    "def find_nearest(array, value):\n",
    "    array = np.asarray(array)\n",
    "    idx = (np.abs(array - value)).argmin()\n",
    "    return array[idx]\n",
    "\n",
    "n_fold = 10\n",
    "rkf = RepeatedKFold(n_splits=n_fold, n_repeats=n_fold)\n",
    "total_acc = 0.\n",
    "\n",
    "for idx, (train_idx, test_idx) in enumerate(rkf.split(features_x)):\n",
    "    train_x, test_x = features_x[train_idx], features_x[test_idx]\n",
    "    train_y, test_y = features_y[train_idx], features_y[test_idx]\n",
    "    \n",
    "    lab_enc = preprocessing.LabelEncoder()\n",
    "    train_y_c = lab_enc.fit_transform(train_y)\n",
    "    test_y_c = lab_enc.fit_transform(test_y)\n",
    "    \n",
    "    svc = base_estimator = SVC(kernel='rbf').fit(train_x, train_y_c)\n",
    "    result_svc = [find_nearest([0, 1, 2], value) for value in svc.predict(test_x)]\n",
    "    acc_svc = accuracy_score(test_y_c, result_svc)\n",
    "    \n",
    "    total_acc += acc_svc\n",
    "    print(\"Acc %d: %f\" % (idx, acc_svc))\n",
    "    \n",
    "total_acc /= (n_fold*n_fold)\n",
    "print(\"Total Acc: %f\" % total_acc)"
   ]
  },
  {
   "cell_type": "markdown",
   "metadata": {
    "colab_type": "text",
    "id": "D6XC3S4eB8Iq"
   },
   "source": [
    "## Linear SVM"
   ]
  },
  {
   "cell_type": "code",
   "execution_count": null,
   "metadata": {
    "colab": {
     "base_uri": "https://localhost:8080/",
     "height": 51
    },
    "colab_type": "code",
    "executionInfo": {
     "elapsed": 9453,
     "status": "ok",
     "timestamp": 1586278287116,
     "user": {
      "displayName": "정혜윰학부생",
      "photoUrl": "",
      "userId": "17524910910845976909"
     },
     "user_tz": -540
    },
    "id": "3KR8TMMxB-rO",
    "outputId": "0702a8d8-21a6-46fd-aa0e-c9025f0354ad"
   },
   "outputs": [],
   "source": [
    "n_fold = 10\n",
    "rkf = RepeatedKFold(n_splits=n_fold, n_repeats=n_fold)\n",
    "total_acc = 0.\n",
    "\n",
    "for idx, (train_idx, test_idx) in enumerate(rkf.split(features_x)):\n",
    "    train_x, test_x = features_x[train_idx], features_x[test_idx]\n",
    "    train_y, test_y = features_y[train_idx], features_y[test_idx]\n",
    "    \n",
    "    lab_enc = preprocessing.LabelEncoder()\n",
    "    train_y_c = lab_enc.fit_transform(train_y)\n",
    "    test_y_c = lab_enc.fit_transform(test_y)\n",
    "    \n",
    "    svc = base_estimator = SVC(kernel='linear').fit(train_x, train_y_c)\n",
    "    result_svc = [find_nearest([0, 1, 2], value) for value in svc.predict(test_x)]\n",
    "    acc_svc = accuracy_score(test_y_c, result_svc)\n",
    "    \n",
    "    total_acc += acc_svc\n",
    "    print(\"Acc %d: %f\" % (idx, acc_svc))\n",
    "    \n",
    "total_acc /= (n_fold*n_fold)\n",
    "print(\"Total Acc: %f\" % total_acc)"
   ]
  },
  {
   "cell_type": "markdown",
   "metadata": {
    "colab_type": "text",
    "id": "sm8GAJI8OUCC"
   },
   "source": [
    "# RF with 10*10 Fold Validation"
   ]
  },
  {
   "cell_type": "code",
   "execution_count": null,
   "metadata": {
    "colab": {
     "base_uri": "https://localhost:8080/",
     "height": 1000
    },
    "colab_type": "code",
    "executionInfo": {
     "elapsed": 22339,
     "status": "ok",
     "timestamp": 1586278377886,
     "user": {
      "displayName": "정혜윰학부생",
      "photoUrl": "",
      "userId": "17524910910845976909"
     },
     "user_tz": -540
    },
    "id": "j94LZeTyK_3i",
    "outputId": "70639182-5cfa-49dc-99cb-51fa196411f1"
   },
   "outputs": [],
   "source": [
    "from sklearn.ensemble import RandomForestRegressor\n",
    "\n",
    "n_fold = 10\n",
    "rkf = RepeatedKFold(n_splits=n_fold, n_repeats=n_fold)\n",
    "total_acc = 0.\n",
    "\n",
    "for idx, (train_idx, test_idx) in enumerate(rkf.split(features_x)):\n",
    "    train_x, test_x = features_x[train_idx], features_x[test_idx]\n",
    "    train_y, test_y = features_y[train_idx], features_y[test_idx]\n",
    "    \n",
    "    rfr = RandomForestRegressor(n_estimators=100).fit(train_x, train_y)\n",
    "    result_rf = [find_nearest([0, 1, 2], value) for value in rfr.predict(test_x)]\n",
    "    acc_rf = accuracy_score(test_y, result_rf)\n",
    "    \n",
    "    total_acc += acc_rf\n",
    "    print(\"Acc %d: %f\" % (idx, acc_rf))\n",
    "    \n",
    "total_acc /= (n_fold*n_fold)\n",
    "print(\"Total Acc: %f\" % total_acc)"
   ]
  },
  {
   "cell_type": "markdown",
   "metadata": {
    "colab_type": "text",
    "id": "CnhBIOpyCk9n"
   },
   "source": [
    "## Logistic Regression"
   ]
  },
  {
   "cell_type": "code",
   "execution_count": null,
   "metadata": {
    "colab": {
     "base_uri": "https://localhost:8080/",
     "height": 564
    },
    "colab_type": "code",
    "executionInfo": {
     "elapsed": 1061,
     "status": "ok",
     "timestamp": 1586183287501,
     "user": {
      "displayName": "정혜윰학부생",
      "photoUrl": "",
      "userId": "17524910910845976909"
     },
     "user_tz": -540
    },
    "id": "CfoxavnhHS-L",
    "outputId": "30bb8ac9-cd36-4703-e8c6-5c5c642db4ab"
   },
   "outputs": [],
   "source": [
    "import numpy as np\n",
    "from sklearn.model_selection import train_test_split\n",
    "from sklearn.linear_model import LogisticRegression\n",
    "from sklearn.metrics import accuracy_score\n",
    "\n",
    "all_train_x, all_test_x, all_train_y, all_test_y = train_test_split(features_all_x, features_all_y, test_size=0.3)\n",
    "\n",
    "clf = LogisticRegression(solver='lbfgs', multi_class='multinomial').fit(all_train_x, all_train_y)\n",
    "result = clf.predict(all_test_x)\n",
    "print(accuracy_score(all_test_y, result))\n",
    "\n",
    "clf.coef_"
   ]
  }
 ],
 "metadata": {
  "colab": {
   "name": "various_model.ipynb",
   "provenance": [
    {
     "file_id": "1yYgwBvZO3K8IW7RgdsqR2JpxCmbxomiP",
     "timestamp": 1585057607295
    }
   ]
  },
  "kernelspec": {
   "display_name": "Python 3",
   "language": "python",
   "name": "python3"
  },
  "language_info": {
   "codemirror_mode": {
    "name": "ipython",
    "version": 3
   },
   "file_extension": ".py",
   "mimetype": "text/x-python",
   "name": "python",
   "nbconvert_exporter": "python",
   "pygments_lexer": "ipython3",
   "version": "3.6.8"
  }
 },
 "nbformat": 4,
 "nbformat_minor": 1
}
