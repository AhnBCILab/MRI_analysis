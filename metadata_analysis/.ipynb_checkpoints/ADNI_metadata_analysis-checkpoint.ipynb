{
 "cells": [
  {
   "cell_type": "code",
   "execution_count": 1,
   "metadata": {},
   "outputs": [],
   "source": [
    "%matplotlib inline\n",
    "import numpy as np\n",
    "import matplotlib.pyplot as plt\n",
    "import pandas as pd\n",
    "from scipy.stats import pearsonr"
   ]
  },
  {
   "cell_type": "code",
   "execution_count": 2,
   "metadata": {
    "scrolled": true
   },
   "outputs": [
    {
     "name": "stdout",
     "output_type": "stream",
     "text": [
      "<class 'pandas.core.frame.DataFrame'>\n",
      "Int64Index: 3194 entries, 0 to 3358\n",
      "Data columns (total 32 columns):\n",
      "Filename             3194 non-null object\n",
      "SubjectID            3194 non-null object\n",
      "Visit                3194 non-null object\n",
      "Group                3194 non-null object\n",
      "Age                  3194 non-null float64\n",
      "Sex                  3194 non-null object\n",
      "MMSE                 3194 non-null object\n",
      "GDSCALE              3194 non-null object\n",
      "CDR                  3194 non-null object\n",
      "NPI-Q                3194 non-null object\n",
      "FAQ                  3194 non-null object\n",
      "APOE A1              3194 non-null int64\n",
      "APOE A2              3194 non-null int64\n",
      "Study Identifer      3194 non-null int64\n",
      "Weight               3194 non-null float64\n",
      "Series Identifer     3194 non-null int64\n",
      "Acqusisition Type    2751 non-null object\n",
      "Weighting            3194 non-null object\n",
      "Pulse Sequence       3194 non-null object\n",
      "Slice Thickness      3194 non-null float64\n",
      "TE                   3194 non-null float64\n",
      "TR                   3194 non-null float64\n",
      "TI                   3194 non-null float64\n",
      "Coil                 3194 non-null object\n",
      "Flip Angle           3194 non-null float64\n",
      "Acquistion Plane     3194 non-null object\n",
      "Matrix X             3194 non-null float64\n",
      "Matrix Y             3194 non-null float64\n",
      "Matrix Z             3194 non-null float64\n",
      "Pixel Spacing X      3194 non-null float64\n",
      "Pixel Spacing Y      3194 non-null float64\n",
      "Field Strength       3194 non-null float64\n",
      "dtypes: float64(13), int64(4), object(15)\n",
      "memory usage: 823.5+ KB\n"
     ]
    }
   ],
   "source": [
    "raw_data = pd.read_csv('metadata_output.csv')\n",
    "raw_data = raw_data[raw_data[\"CDR\"] != \"None\"]\n",
    "for column in raw_data.columns[32:]:\n",
    "    raw_data = raw_data[raw_data[column] != \"None\"]\n",
    "raw_data.info()"
   ]
  },
  {
   "cell_type": "code",
   "execution_count": 3,
   "metadata": {},
   "outputs": [],
   "source": [
    "interest_col = [\"SubjectID\", \"Age\", \"Sex\", \"MMSE\", \"GDSCALE\", \"CDR\", \"NPI-Q\", \"APOE A1\", \"APOE A2\", \"Weight\"]\n",
    "roi_data = raw_data[interest_col]"
   ]
  },
  {
   "cell_type": "code",
   "execution_count": 4,
   "metadata": {},
   "outputs": [],
   "source": [
    "roi_data = roi_data.assign(Sex=lambda s: s['Sex'].map({'F': 1, 'M': 0}))\n",
    "roi_data = roi_data.assign(CDR=lambda s: s['CDR'].astype('float'))\n",
    "\n",
    "roi_data = roi_data.mask(roi_data['CDR'] < 0).dropna()\n",
    "# For test\n",
    "# roi_data = roi_data.mask(roi_data['CDR'] > 2).dropna()"
   ]
  },
  {
   "cell_type": "code",
   "execution_count": 5,
   "metadata": {},
   "outputs": [
    {
     "data": {
      "image/png": "[encoded data removed]",
      "text/plain": [
       "<Figure size 432x288 with 1 Axes>"
      ]
     },
     "metadata": {
      "needs_background": "light"
     },
     "output_type": "display_data"
    },
    {
     "name": "stdout",
     "output_type": "stream",
     "text": [
      "N: 3181\n",
      "Corr: -0.0202\n",
      "p-value: 0.2549\n"
     ]
    }
   ],
   "source": [
    "SEX = roi_data[['CDR', 'Sex']].astype(\"float\")\n",
    "\n",
    "plt.title(\"CDR - SEX\")\n",
    "plt.bar(list(map(lambda a: a - 0.1, sorted(SEX[SEX['Sex'] == 0]['CDR'].unique()))),\n",
    "        SEX[SEX['Sex'] == 0]['CDR'].value_counts().sort_index(),\n",
    "        0.2,\n",
    "        label=\"Male\"\n",
    "       )\n",
    "\n",
    "plt.bar(list(map(lambda a: a + 0.1, sorted(SEX[SEX['Sex'] == 1]['CDR'].unique()))),\n",
    "        SEX[SEX['Sex'] == 1]['CDR'].value_counts().sort_index(),\n",
    "        0.2,\n",
    "        label=\"Female\"\n",
    "       )\n",
    "\n",
    "plt.xlabel(\"CDR\")\n",
    "plt.ylabel(\"Sex\")\n",
    "plt.legend()\n",
    "plt.savefig(\"Metadata_figs/CDR_SEX.png\")\n",
    "plt.show()\n",
    "\n",
    "corr, p_value = pearsonr(SEX['CDR'], SEX['Sex'])\n",
    "print(\"N: %d\\nCorr: %.4f\\np-value: %.4f\" % (SEX['Sex'].count(), corr, p_value))"
   ]
  },
  {
   "cell_type": "code",
   "execution_count": 6,
   "metadata": {},
   "outputs": [
    {
     "data": {
      "image/png": "[encoded data removed]",
      "text/plain": [
       "<Figure size 432x288 with 1 Axes>"
      ]
     },
     "metadata": {
      "needs_background": "light"
     },
     "output_type": "display_data"
    },
    {
     "name": "stdout",
     "output_type": "stream",
     "text": [
      "N: 3181\n",
      "Corr: 0.0118\n",
      "p-value: 0.5056\n"
     ]
    }
   ],
   "source": [
    "AGE = roi_data[['CDR', 'Age']]\n",
    "\n",
    "plt.title(\"CDR - AGE\")\n",
    "for cdr, data in zip(AGE['CDR'], AGE['Age']):\n",
    "    if cdr <= 0:\n",
    "        plt.scatter(cdr, data, c='blue', alpha=.3)\n",
    "    elif cdr == 0.5:\n",
    "        plt.scatter(cdr, data, c='green', alpha=.3)\n",
    "    else:\n",
    "        plt.scatter(cdr, data, c='red', alpha=.3)\n",
    "plt.xlabel(\"CDR\")\n",
    "plt.ylabel(\"AGE\")\n",
    "plt.savefig(\"Metadata_figs/CDR_AGE.png\")\n",
    "plt.show()\n",
    "\n",
    "corr, p_value = pearsonr(AGE['CDR'], AGE['Age'])\n",
    "print(\"N: %d\\nCorr: %.4f\\np-value: %.4f\" % (AGE['Age'].count(), corr, p_value))"
   ]
  },
  {
   "cell_type": "code",
   "execution_count": 7,
   "metadata": {},
   "outputs": [
    {
     "name": "stderr",
     "output_type": "stream",
     "text": [
      "/home/harine/MRI_analysis/myvenv/lib/python3.6/site-packages/pandas/core/ops/__init__.py:1115: FutureWarning: elementwise comparison failed; returning scalar instead, but in the future will perform elementwise comparison\n",
      "  result = method(y)\n"
     ]
    },
    {
     "data": {
      "image/png": "[encoded data removed]",
      "text/plain": [
       "<Figure size 432x288 with 1 Axes>"
      ]
     },
     "metadata": {
      "needs_background": "light"
     },
     "output_type": "display_data"
    },
    {
     "name": "stdout",
     "output_type": "stream",
     "text": [
      "N: 3181\n",
      "Corr: -0.7075\n",
      "p-value: 0.0000\n"
     ]
    }
   ],
   "source": [
    "MMSE = roi_data[['CDR', 'MMSE']]\n",
    "MMSE = MMSE.mask(MMSE.eq('None')).dropna().astype('float')\n",
    "\n",
    "plt.title(\"CDR - MMSE\")\n",
    "for cdr, data in zip(MMSE['CDR'], MMSE['MMSE']):\n",
    "    if cdr <= 0:\n",
    "        plt.scatter(cdr, data, c='blue', alpha=.3)\n",
    "    elif cdr == 0.5:\n",
    "        plt.scatter(cdr, data, c='green', alpha=.3)\n",
    "    else:\n",
    "        plt.scatter(cdr, data, c='red', alpha=.3)\n",
    "plt.xlabel(\"CDR\")\n",
    "plt.ylabel(\"MMSE\")\n",
    "plt.savefig(\"Metadata_figs/CDR_MMSE.png\")\n",
    "plt.show()\n",
    "\n",
    "corr, p_value = pearsonr(MMSE['CDR'], MMSE['MMSE'])\n",
    "print(\"N: %d\\nCorr: %.4f\\np-value: %.4f\" % (MMSE['MMSE'].count(), corr, p_value))"
   ]
  },
  {
   "cell_type": "code",
   "execution_count": 8,
   "metadata": {},
   "outputs": [
    {
     "data": {
      "image/png": "[encoded data removed]",
      "text/plain": [
       "<Figure size 432x288 with 1 Axes>"
      ]
     },
     "metadata": {
      "needs_background": "light"
     },
     "output_type": "display_data"
    },
    {
     "name": "stdout",
     "output_type": "stream",
     "text": [
      "N: 2061\n",
      "Corr: 0.2019\n",
      "p-value: 0.0000\n"
     ]
    }
   ],
   "source": [
    "GDSCALE = roi_data[['CDR', 'GDSCALE']]\n",
    "GDSCALE = GDSCALE.mask(GDSCALE['GDSCALE'].eq(\"None\")).dropna().astype('float')\n",
    "\n",
    "plt.title(\"CDR - GDSCALE\")\n",
    "for cdr, data in zip(GDSCALE['CDR'], GDSCALE['GDSCALE']):\n",
    "    if cdr <= 0:\n",
    "        plt.scatter(cdr, data, c='blue', alpha=.3)\n",
    "    elif cdr == 0.5:\n",
    "        plt.scatter(cdr, data, c='green', alpha=.3)\n",
    "    else:\n",
    "        plt.scatter(cdr, data, c='red', alpha=.3)\n",
    "plt.xlabel(\"CDR\")\n",
    "plt.ylabel(\"GDSCALE\")\n",
    "plt.savefig(\"Metadata_figs/CDR_GDSCALE.png\")\n",
    "plt.show()\n",
    "\n",
    "corr, p_value = pearsonr(GDSCALE['CDR'], GDSCALE['GDSCALE'])\n",
    "print(\"N: %d\\nCorr: %.4f\\np-value: %.4f\" % (GDSCALE['GDSCALE'].count(), corr, p_value))"
   ]
  },
  {
   "cell_type": "code",
   "execution_count": null,
   "metadata": {},
   "outputs": [],
   "source": [
    "NPI_Q = roi_data[['CDR', 'NPI-Q']]\n",
    "NPI_Q = NPI_Q.mask(NPI_Q.eq('None')).dropna().astype('float')\n",
    "\n",
    "plt.title(\"CDR - NPI-Q\")\n",
    "for cdr, data in zip(NPI_Q['CDR'], NPI_Q['NPI-Q']):\n",
    "    if cdr <= 0:\n",
    "        plt.scatter(cdr, data, c='blue', alpha=.3)\n",
    "    elif cdr == 0.5:\n",
    "        plt.scatter(cdr, data, c='green', alpha=.3)\n",
    "    else:\n",
    "        plt.scatter(cdr, data, c='red', alpha=.3)\n",
    "plt.xlabel(\"CDR\")\n",
    "plt.ylabel(\"NPI-Q\")\n",
    "plt.savefig(\"Metadata_figs/CDR_NPI_Q.png\")\n",
    "plt.show()\n",
    "\n",
    "corr, p_value = pearsonr(NPI_Q['CDR'], NPI_Q['NPI-Q'])\n",
    "print(\"N: %d\\nCorr: %.4f\\np-value: %.4f\\n\" % (NPI_Q['NPI-Q'].count(), corr, p_value))"
   ]
  },
  {
   "cell_type": "code",
   "execution_count": null,
   "metadata": {},
   "outputs": [],
   "source": [
    "WEIGHT = roi_data[['CDR', 'Weight']]\n",
    "WEIGHT = WEIGHT.mask(WEIGHT.eq('None')).dropna().astype('float')\n",
    "WEIGHT = WEIGHT[WEIGHT['Weight'] != 0]\n",
    "\n",
    "plt.title(\"CDR - Weight\")\n",
    "for cdr, data in zip(WEIGHT['CDR'], WEIGHT['Weight']):\n",
    "    if cdr <= 0:\n",
    "        plt.scatter(cdr, data, c='blue', alpha=.3)\n",
    "    elif cdr == 0.5:\n",
    "        plt.scatter(cdr, data, c='green', alpha=.3)\n",
    "    else:\n",
    "        plt.scatter(cdr, data, c='red', alpha=.3)\n",
    "plt.xlabel(\"CDR\")\n",
    "plt.ylabel(\"Weight\")\n",
    "plt.savefig(\"Metadata_figs/CDR_Weight.png\")\n",
    "plt.show()\n",
    "\n",
    "corr, p_value = pearsonr(WEIGHT['CDR'], WEIGHT['Weight'])\n",
    "print(\"N: %d\\nCorr: %.4f\\np-value: %.4f\\n\" % (WEIGHT['Weight'].count(), corr, p_value))"
   ]
  },
  {
   "cell_type": "code",
   "execution_count": null,
   "metadata": {},
   "outputs": [],
   "source": [
    "APOE_A1 = roi_data[['CDR', 'APOE A1']]\n",
    "\n",
    "plt.title(\"CDR - APOE A1\")\n",
    "data_size = APOE_A1.groupby(['CDR', 'APOE A1']).size().unstack(fill_value=0)\n",
    "for cdr, data in zip(APOE_A1['CDR'], APOE_A1['APOE A1']):\n",
    "    if cdr <= 0:\n",
    "        plt.scatter(cdr, data, c='blue', s=data_size[data][cdr])\n",
    "    elif cdr == 0.5:\n",
    "        plt.scatter(cdr, data, c='green', s=data_size[data][cdr])\n",
    "    else:\n",
    "        plt.scatter(cdr, data, c='red', s=data_size[data][cdr])\n",
    "\n",
    "plt.yticks([2, 3, 4])\n",
    "plt.xlabel(\"CDR\")\n",
    "plt.ylabel(\"APOE A1\")\n",
    "plt.savefig(\"Metadata_figs/CDR_APOE_A1.png\")\n",
    "plt.show()\n",
    "\n",
    "corr, p_value = pearsonr(APOE_A1['CDR'], APOE_A1['APOE A1'])\n",
    "print(\"N: %d\\nCorr: %.4f\\np-value: %.4f\" % (APOE_A1['APOE A1'].count(), corr, p_value))"
   ]
  },
  {
   "cell_type": "code",
   "execution_count": null,
   "metadata": {},
   "outputs": [],
   "source": [
    "APOE_A2 = roi_data[['CDR', 'APOE A2']]\n",
    "\n",
    "plt.title(\"CDR - APOE A2\")\n",
    "data_size = APOE_A2.groupby(['CDR', 'APOE A2']).size().unstack(fill_value=0)\n",
    "for cdr, data in zip(APOE_A2['CDR'], APOE_A2['APOE A2']):\n",
    "    if cdr <= 0:\n",
    "        plt.scatter(cdr, data, c='blue', s=data_size[data][cdr])\n",
    "    elif cdr == 0.5:\n",
    "        plt.scatter(cdr, data, c='green', s=data_size[data][cdr])\n",
    "    else:\n",
    "        plt.scatter(cdr, data, c='red', s=data_size[data][cdr])\n",
    "\n",
    "plt.yticks([2, 3, 4])\n",
    "plt.xlabel(\"CDR\")\n",
    "plt.ylabel(\"APOE A2\")\n",
    "plt.savefig(\"Metadata_figs/CDR_APOE_A2.png\")\n",
    "plt.show()\n",
    "\n",
    "corr, p_value = pearsonr(APOE_A2['CDR'], APOE_A2['APOE A2'])\n",
    "print(\"N: %d\\nCorr: %.4f\\np-value: %.4f\" % (APOE_A2['APOE A2'].count(), corr, p_value))"
   ]
  },
  {
   "cell_type": "code",
   "execution_count": null,
   "metadata": {},
   "outputs": [],
   "source": []
  }
 ],
 "metadata": {
  "kernelspec": {
   "display_name": "Python 3",
   "language": "python",
   "name": "python3"
  },
  "language_info": {
   "codemirror_mode": {
    "name": "ipython",
    "version": 3
   },
   "file_extension": ".py",
   "mimetype": "text/x-python",
   "name": "python",
   "nbconvert_exporter": "python",
   "pygments_lexer": "ipython3",
   "version": "3.6.8"
  }
 },
 "nbformat": 4,
 "nbformat_minor": 2
}
